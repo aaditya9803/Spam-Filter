{
 "cells": [
  {
   "cell_type": "code",
   "execution_count": 225,
   "id": "8d70885d",
   "metadata": {},
   "outputs": [],
   "source": [
    "import pandas as pd\n",
    "import numpy as np\n",
    "import matplotlib.pyplot as plt\n",
    "import seaborn as sns\n",
    "%matplotlib inline"
   ]
  },
  {
   "cell_type": "code",
   "execution_count": 226,
   "id": "3317ace9",
   "metadata": {},
   "outputs": [],
   "source": [
    "vocab_size = 2500\n",
    "token_spam_prob_file ='SpamData/03_Testing/prob-spam.txt'\n",
    "token_ham_prob_file ='SpamData/03_Testing/prob-nonspam.txt'\n",
    "token_all_prob_file ='SpamData/03_Testing/prob-all-tokens.txt'\n",
    "test_feature_matrix_01 = 'SpamData/03_Testing/test-feature-01.txt'\n",
    "test_feature_matrix_02 = 'SpamData/03_Testing/test-feature-02.txt'\n",
    "test_feature_matrix_03 = 'SpamData/03_Testing/test-feature-03.txt'\n",
    "test_feature_matrix_04 = 'SpamData/03_Testing/test-feature-04.txt'\n",
    "test_feature_matrix_05 = 'SpamData/03_Testing/test-feature-05.txt'\n",
    "test_feature_matrix_06 = 'SpamData/03_Testing/test-feature-06.txt'\n",
    "test_feature_matrix_07 = 'SpamData/03_Testing/test-feature-07.txt'\n",
    "test_feature_matrix_08 = 'SpamData/03_Testing/test-feature-08.txt'\n",
    "test_target_file = 'SpamData/03_Testing/test-target.txt'\n",
    "# x_test_orginal_file = 'SpamData/03_Testing/orginal.txt'"
   ]
  },
  {
   "cell_type": "code",
   "execution_count": 227,
   "id": "029c9b0a",
   "metadata": {},
   "outputs": [],
   "source": [
    "# x_test_orginal = np.loadtxt(x_test_orginal_file, delimiter=' ')\n",
    "y_test = np.loadtxt(test_target_file, delimiter=' ')\n",
    "x_test_01 = np.loadtxt(test_feature_matrix_01, delimiter=' ')\n",
    "x_test_02 = np.loadtxt(test_feature_matrix_02, delimiter=' ')\n",
    "x_test_03 = np.loadtxt(test_feature_matrix_03, delimiter=' ')\n",
    "x_test_04 = np.loadtxt(test_feature_matrix_04, delimiter=' ')\n",
    "x_test_05 = np.loadtxt(test_feature_matrix_05, delimiter=' ')\n",
    "x_test_06 = np.loadtxt(test_feature_matrix_06, delimiter=' ')\n",
    "x_test_07 = np.loadtxt(test_feature_matrix_07, delimiter=' ')\n",
    "x_test_08 = np.loadtxt(test_feature_matrix_08, delimiter=' ')\n",
    "prob_token_spam = np.loadtxt(token_spam_prob_file, delimiter=' ')\n",
    "prob_token_ham = np.loadtxt(token_ham_prob_file, delimiter=' ')\n",
    "prob_all_tokens = np.loadtxt(token_all_prob_file, delimiter=' ')"
   ]
  },
  {
   "cell_type": "code",
   "execution_count": 228,
   "id": "fd83f3d0",
   "metadata": {},
   "outputs": [
    {
     "data": {
      "text/plain": [
       "numpy.ndarray"
      ]
     },
     "execution_count": 228,
     "metadata": {},
     "output_type": "execute_result"
    }
   ],
   "source": [
    " type(x_test_01)"
   ]
  },
  {
   "cell_type": "code",
   "execution_count": 229,
   "id": "07740aa7",
   "metadata": {},
   "outputs": [],
   "source": [
    "x_test_part_1 = np.concatenate((x_test_01,x_test_02),axis=0)\n",
    "x_test_part_2 = np.concatenate((x_test_03,x_test_04),axis=0)\n",
    "x_test_part_3 = np.concatenate((x_test_05,x_test_06),axis=0)\n",
    "x_test_part_4 = np.concatenate((x_test_07,x_test_08),axis=0)\n",
    "x_test_final_1 = np.concatenate((x_test_part_1,x_test_part_2),axis=0)\n",
    "x_test_final_2 = np.concatenate((x_test_part_3,x_test_part_4),axis=0)\n",
    "x_test = np.concatenate((x_test_final_1,x_test_final_2),axis=0)"
   ]
  },
  {
   "cell_type": "code",
   "execution_count": 230,
   "id": "09f69592",
   "metadata": {},
   "outputs": [],
   "source": [
    "# pd.DataFrame(x_test_part_1)"
   ]
  },
  {
   "cell_type": "code",
   "execution_count": 231,
   "id": "feb14f53",
   "metadata": {},
   "outputs": [
    {
     "data": {
      "text/plain": [
       "(1725, 2500)"
      ]
     },
     "execution_count": 231,
     "metadata": {},
     "output_type": "execute_result"
    }
   ],
   "source": [
    "x_test.shape"
   ]
  },
  {
   "cell_type": "markdown",
   "id": "305c0037",
   "metadata": {},
   "source": [
    "# Joint Probability\n",
    "  \n",
    "   ## P(AnB) = P(A) x P(B)"
   ]
  },
  {
   "cell_type": "markdown",
   "id": "6ac07558",
   "metadata": {},
   "source": [
    "# Independence\n",
    "##     P(Spam | Viagra) x P(Spam | Free)"
   ]
  },
  {
   "cell_type": "markdown",
   "id": "84a5e50c",
   "metadata": {},
   "source": [
    "#### for example in a sentence, \n",
    "#### \"Hello friend, want free viagra?\"\n",
    "\n",
    "### $$P(Spam|Hello)\\,\\,\\, \\,\\,\\, P(Spam|Want)\\,\\,\\, x \\,\\,\\,P(Spam|free) \\,\\,\\,x \\,\\,\\, P(Spam|Viagra)$$\n"
   ]
  },
  {
   "cell_type": "markdown",
   "id": "b6be7f25",
   "metadata": {},
   "source": [
    "## Calculating the joint Probability"
   ]
  },
  {
   "cell_type": "code",
   "execution_count": 232,
   "id": "4198599d",
   "metadata": {},
   "outputs": [
    {
     "name": "stdout",
     "output_type": "stream",
     "text": [
      "a =  [1 2 3]\n",
      "b =  [0 5 4]\n"
     ]
    }
   ],
   "source": [
    "#Dot Product\n",
    "a= np.array([1,2,3])\n",
    "b=np.array([0,5,4])\n",
    "print('a = ',a)\n",
    "print('b = ',b)"
   ]
  },
  {
   "cell_type": "code",
   "execution_count": 233,
   "id": "1f025043",
   "metadata": {},
   "outputs": [
    {
     "data": {
      "text/plain": [
       "22"
      ]
     },
     "execution_count": 233,
     "metadata": {},
     "output_type": "execute_result"
    }
   ],
   "source": [
    "# 1*0 + 2*5 + 3*4\n",
    "a.dot(b)"
   ]
  },
  {
   "cell_type": "code",
   "execution_count": 234,
   "id": "61b6076f",
   "metadata": {},
   "outputs": [
    {
     "name": "stdout",
     "output_type": "stream",
     "text": [
      "[21  9]\n"
     ]
    }
   ],
   "source": [
    "c= np.array([[0,6],[3,0],[5,1]])\n",
    "# print(c)\n",
    "# [ 1*0 + 2*3 + 3*5  ,  1*6 + 2*0 + 3*1 ]\n",
    "print(a.dot(c))"
   ]
  },
  {
   "cell_type": "code",
   "execution_count": 235,
   "id": "24ceadad",
   "metadata": {},
   "outputs": [
    {
     "name": "stdout",
     "output_type": "stream",
     "text": [
      "x_test shape (1725, 2500)\n",
      "prob token spam shape (2500,)\n",
      "prob token non-spam shape (2500,)\n"
     ]
    }
   ],
   "source": [
    "#Finding Dot product between x_test and & prob_token_spam\n",
    "print('x_test shape',x_test.shape)\n",
    "print('prob token spam shape',prob_token_spam.shape)\n",
    "print('prob token non-spam shape',prob_token_ham.shape)"
   ]
  },
  {
   "cell_type": "code",
   "execution_count": 236,
   "id": "b48cb56e",
   "metadata": {},
   "outputs": [
    {
     "name": "stdout",
     "output_type": "stream",
     "text": [
      "Shape of dot product   (1725,)\n"
     ]
    }
   ],
   "source": [
    "print('Shape of dot product  ',x_test.dot(prob_token_spam).shape)"
   ]
  },
  {
   "cell_type": "markdown",
   "id": "2c5d5e30",
   "metadata": {},
   "source": [
    "## Set the Prior\n"
   ]
  },
  {
   "cell_type": "markdown",
   "id": "6ca96eff",
   "metadata": {},
   "source": [
    "$$ P(Spam \\, | \\, X) = \\frac{P(X \\, | \\, Spam \\,) \\, P(Spam)}{P(X)}$$"
   ]
  },
  {
   "cell_type": "code",
   "execution_count": 237,
   "id": "a087c7ed",
   "metadata": {},
   "outputs": [],
   "source": [
    "# Now using the log for calculation, for easier interpretation as the values are closer.. using log will spread them out..\n",
    "# log(P(Spam | X)) - log(P(Tokens)) + log(P(Spam))"
   ]
  },
  {
   "cell_type": "code",
   "execution_count": 238,
   "id": "a368a59b",
   "metadata": {},
   "outputs": [],
   "source": [
    "#We set the prior as per the knowledge from previous notebook.. where we got proability of email being spam was 0.3105\n",
    "prob_spam = 0.3105"
   ]
  },
  {
   "cell_type": "code",
   "execution_count": 239,
   "id": "ecc8dd9b",
   "metadata": {},
   "outputs": [
    {
     "data": {
      "text/plain": [
       "array([ -4.47993685,  -5.26433558,  -4.96239915, ...,  -9.34882785,\n",
       "        -9.29166943, -11.48889401])"
      ]
     },
     "execution_count": 239,
     "metadata": {},
     "output_type": "execute_result"
    }
   ],
   "source": [
    "#Calculating the log probabilities of tokens given that the email is Spam.. (it's stored in prob_token_spam)\n",
    "np.log(prob_token_spam)"
   ]
  },
  {
   "cell_type": "code",
   "execution_count": 240,
   "id": "b488ef67",
   "metadata": {},
   "outputs": [
    {
     "data": {
      "text/plain": [
       "array([-4.07344866, -4.80077808, -4.87111077, ..., -9.54598191,\n",
       "       -9.6795133 , -9.5777306 ])"
      ]
     },
     "execution_count": 240,
     "metadata": {},
     "output_type": "execute_result"
    }
   ],
   "source": [
    "np.log(prob_all_tokens)"
   ]
  },
  {
   "cell_type": "code",
   "execution_count": 241,
   "id": "d93eded5",
   "metadata": {},
   "outputs": [
    {
     "name": "stdout",
     "output_type": "stream",
     "text": [
      "shape (1725,)\n",
      "first-5   [20.12539996  0.87157478 18.52811916 17.22840723 20.27766966]\n"
     ]
    }
   ],
   "source": [
    "#Joint Probability in log format\n",
    "joint_log_spam = x_test.dot(np.log(prob_token_spam)-np.log(prob_all_tokens)) + np.log(prob_spam)\n",
    "print('shape',joint_log_spam.shape)\n",
    "print('first-5  ',joint_log_spam[:5])"
   ]
  },
  {
   "cell_type": "code",
   "execution_count": 242,
   "id": "1b2c0bb5",
   "metadata": {},
   "outputs": [],
   "source": [
    "#Calculating the log probabilities that emails are nonspam given their tokens.Storing it in joint_log_ham"
   ]
  },
  {
   "cell_type": "markdown",
   "id": "3857dcea",
   "metadata": {},
   "source": [
    "$$ P(Ham \\, | \\, X) = \\frac{P(X \\, | \\, Ham \\,) \\, (1-P(Spam))}{P(X)}$$"
   ]
  },
  {
   "cell_type": "code",
   "execution_count": 243,
   "id": "33cfecb3",
   "metadata": {},
   "outputs": [],
   "source": [
    "joint_log_ham = x_test.dot(np.log(prob_token_ham) - np.log(prob_all_tokens))+np.log(1-prob_spam)"
   ]
  },
  {
   "cell_type": "code",
   "execution_count": 244,
   "id": "b4f6f636",
   "metadata": {},
   "outputs": [
    {
     "name": "stdout",
     "output_type": "stream",
     "text": [
      "shape (1725,)\n",
      "first-5   [-59.08187658 -10.90230296 -36.35377638 -60.90135581 -53.99874972]\n"
     ]
    }
   ],
   "source": [
    "print('shape',joint_log_ham.shape)\n",
    "print('first-5  ',joint_log_ham[:5])"
   ]
  },
  {
   "cell_type": "markdown",
   "id": "e19287e1",
   "metadata": {},
   "source": [
    "# Making Prediction Comparing Joint Probabilites"
   ]
  },
  {
   "cell_type": "markdown",
   "id": "6293714e",
   "metadata": {},
   "source": [
    "## <center> P(Spam|hello) x P(Spam|want) x P(Spam|free) x P(Spam|viagra) </center>"
   ]
  },
  {
   "cell_type": "markdown",
   "id": "7ecdae91",
   "metadata": {},
   "source": [
    "# <center> VS </center>"
   ]
  },
  {
   "cell_type": "markdown",
   "id": "6b9c4e81",
   "metadata": {},
   "source": [
    "## <center> P(Ham|hello) x P(Ham|want) x P(Ham|free) x P(Ham|viagra) </center>"
   ]
  },
  {
   "cell_type": "markdown",
   "id": "3a0be928",
   "metadata": {},
   "source": [
    "### Checking for Higher Joint Probability"
   ]
  },
  {
   "cell_type": "markdown",
   "id": "b75734de",
   "metadata": {},
   "source": [
    "$$ P(Spam \\, | \\, X) \\, > \\, P(Ham \\,|\\, X) $$"
   ]
  },
  {
   "cell_type": "markdown",
   "id": "b041fd15",
   "metadata": {},
   "source": [
    "<center> OR </center>"
   ]
  },
  {
   "cell_type": "markdown",
   "id": "8a986c24",
   "metadata": {},
   "source": [
    "$$ P(Spam \\, | \\, X) \\, < \\, P(Ham \\, | \\, X) $$"
   ]
  },
  {
   "cell_type": "markdown",
   "id": "ffd71c29",
   "metadata": {},
   "source": [
    "##### Creating The vector Prediction for $\\hat y$ ... And Storing it as 'prediction'"
   ]
  },
  {
   "cell_type": "code",
   "execution_count": 245,
   "id": "1f66e4aa",
   "metadata": {},
   "outputs": [
    {
     "data": {
      "text/plain": [
       "array([False, False, False, False, False])"
      ]
     },
     "execution_count": 245,
     "metadata": {},
     "output_type": "execute_result"
    }
   ],
   "source": [
    "prediction = joint_log_spam > joint_log_ham\n",
    "prediction [-5:]"
   ]
  },
  {
   "cell_type": "code",
   "execution_count": 246,
   "id": "bda24eab",
   "metadata": {},
   "outputs": [
    {
     "data": {
      "text/plain": [
       "array([0, 0, 0, 0, 0])"
      ]
     },
     "execution_count": 246,
     "metadata": {},
     "output_type": "execute_result"
    }
   ],
   "source": [
    "# Boolean to integers -> \n",
    "prediction[-5:]*1"
   ]
  },
  {
   "cell_type": "markdown",
   "id": "739196fe",
   "metadata": {},
   "source": [
    "## Simplifying"
   ]
  },
  {
   "cell_type": "code",
   "execution_count": 247,
   "id": "1ca350f8",
   "metadata": {},
   "outputs": [],
   "source": [
    "joint_log_spam = x_test.dot(np.log(prob_token_spam)) + np.log(prob_spam)\n",
    "joint_log_ham = x_test.dot(np.log(prob_token_ham)) + np.log(1-prob_spam)"
   ]
  },
  {
   "cell_type": "markdown",
   "id": "c615686b",
   "metadata": {},
   "source": [
    "$$ P(X\\,|\\,Spam)\\,P(Spam) \\,≠\\, \\frac{P(X\\,|\\,Spam)\\,P(Spam)}{P(X)}$$"
   ]
  },
  {
   "cell_type": "markdown",
   "id": "a7c5c493",
   "metadata": {},
   "source": [
    "# Model Evaluation"
   ]
  },
  {
   "cell_type": "markdown",
   "id": "5f2fe8ff",
   "metadata": {},
   "source": [
    "### Accuracy"
   ]
  },
  {
   "cell_type": "code",
   "execution_count": 248,
   "id": "b73b15be",
   "metadata": {},
   "outputs": [
    {
     "name": "stdout",
     "output_type": "stream",
     "text": [
      "Docs classified correctly 1677\n"
     ]
    }
   ],
   "source": [
    "correct_docs =(y_test == prediction).sum()\n",
    "print('Docs classified correctly',correct_docs)"
   ]
  },
  {
   "cell_type": "code",
   "execution_count": 249,
   "id": "ddd2cf87",
   "metadata": {},
   "outputs": [
    {
     "name": "stdout",
     "output_type": "stream",
     "text": [
      "Docs classified incorrectly 48\n"
     ]
    }
   ],
   "source": [
    "incorrect_docs = x_test.shape[0]-correct_docs\n",
    "print('Docs classified incorrectly',incorrect_docs)"
   ]
  },
  {
   "cell_type": "code",
   "execution_count": 250,
   "id": "a9b69be7",
   "metadata": {},
   "outputs": [
    {
     "name": "stdout",
     "output_type": "stream",
     "text": [
      "incorrect is  2.78%\n",
      "correct is 97.22%\n"
     ]
    }
   ],
   "source": [
    "#Accuracy percentage\n",
    "fraction_wrong = incorrect_docs/len(x_test)\n",
    "print('incorrect is  {:.2%}'.format(fraction_wrong))\n",
    "print('correct is {:.2%}'.format(1-fraction_wrong))"
   ]
  },
  {
   "cell_type": "markdown",
   "id": "f9acf6bf",
   "metadata": {},
   "source": [
    "# Visualizing the Decision Boundary"
   ]
  },
  {
   "cell_type": "code",
   "execution_count": 251,
   "id": "34b3a1cd",
   "metadata": {},
   "outputs": [
    {
     "data": {
      "image/png": "[encoded data removed]",
      "text/plain": [
       "<Figure size 1100x700 with 1 Axes>"
      ]
     },
     "metadata": {},
     "output_type": "display_data"
    }
   ],
   "source": [
    "#Chart styling info\n",
    "linedata = np.linspace(start=-14000,stop=1,num=1000)\n",
    "yaxis_label ='P(X|Spam)'\n",
    "xaxis_label ='P(X|NonSpam)'\n",
    "plt.figure(figsize=(11,7))\n",
    "plt.xlabel(xaxis_label,fontsize=14)\n",
    "plt.ylabel(yaxis_label,fontsize=14)\n",
    "plt.xlim([-14000,1])\n",
    "plt.ylim([-14000,1])\n",
    "plt.scatter(joint_log_ham,joint_log_spam,color=\"navy\")\n",
    "plt.show()"
   ]
  },
  {
   "cell_type": "code",
   "execution_count": 252,
   "id": "8fb0fae5",
   "metadata": {},
   "outputs": [
    {
     "data": {
      "image/png": "[encoded data removed]",
      "text/plain": [
       "<Figure size 1100x700 with 1 Axes>"
      ]
     },
     "metadata": {},
     "output_type": "display_data"
    }
   ],
   "source": [
    "plt.figure(figsize=(11,7))\n",
    "plt.xlabel(xaxis_label,fontsize=14)\n",
    "plt.ylabel(yaxis_label,fontsize=14)\n",
    "plt.xlim([-14000,1])\n",
    "plt.ylim([-14000,1])\n",
    "plt.scatter(joint_log_ham,joint_log_spam,color=\"navy\")\n",
    "plt.plot(linedata,linedata,color='orange')\n",
    "plt.show()"
   ]
  },
  {
   "cell_type": "code",
   "execution_count": 253,
   "id": "b69821e4",
   "metadata": {},
   "outputs": [
    {
     "data": {
      "text/plain": [
       "-1224.4715787153987"
      ]
     },
     "execution_count": 253,
     "metadata": {},
     "output_type": "execute_result"
    }
   ],
   "source": [
    "joint_log_spam[0]"
   ]
  },
  {
   "cell_type": "code",
   "execution_count": 254,
   "id": "35657532",
   "metadata": {},
   "outputs": [],
   "source": [
    "# (joint_log_spam[2100:2500])"
   ]
  },
  {
   "cell_type": "code",
   "execution_count": 255,
   "id": "9d2125db",
   "metadata": {},
   "outputs": [
    {
     "data": {
      "text/plain": [
       "array([1.70185958e-02, 8.22334617e-03, 7.66484670e-03, ...,\n",
       "       7.14879319e-05, 6.25519405e-05, 6.92539341e-05])"
      ]
     },
     "execution_count": 255,
     "metadata": {},
     "output_type": "execute_result"
    }
   ],
   "source": [
    "prob_all_tokens"
   ]
  },
  {
   "cell_type": "code",
   "execution_count": 256,
   "id": "17adc73c",
   "metadata": {},
   "outputs": [
    {
     "data": {
      "text/plain": [
       "array([1.13341289e-02, 5.17282882e-03, 6.99612294e-03, ...,\n",
       "       8.70674158e-05, 9.21890285e-05, 1.02432254e-05])"
      ]
     },
     "execution_count": 256,
     "metadata": {},
     "output_type": "execute_result"
    }
   ],
   "source": [
    "prob_token_spam"
   ]
  },
  {
   "cell_type": "code",
   "execution_count": 257,
   "id": "d1b0551d",
   "metadata": {},
   "outputs": [
    {
     "data": {
      "text/plain": [
       "array([2.10080932e-02, 1.03855434e-02, 8.03102064e-03, ...,\n",
       "       6.60509680e-05, 4.66242127e-05, 1.20445883e-04])"
      ]
     },
     "execution_count": 257,
     "metadata": {},
     "output_type": "execute_result"
    }
   ],
   "source": [
    "prob_token_ham"
   ]
  },
  {
   "cell_type": "code",
   "execution_count": 258,
   "id": "d09b0621",
   "metadata": {},
   "outputs": [
    {
     "data": {
      "text/plain": [
       "array([-1223.30200734,  -263.27346792,  -412.74976071, ...,\n",
       "       -4838.25804191,  -543.57971803,  -334.56397314])"
      ]
     },
     "execution_count": 258,
     "metadata": {},
     "output_type": "execute_result"
    }
   ],
   "source": [
    "x_test.dot(np.log(prob_token_spam))"
   ]
  },
  {
   "cell_type": "code",
   "execution_count": 259,
   "id": "7e7b4d52",
   "metadata": {},
   "outputs": [
    {
     "data": {
      "text/plain": [
       "array([ -5.64950823,  -6.43390696,  -6.13197053, ..., -10.51839922,\n",
       "       -10.46124081, -12.65846539])"
      ]
     },
     "execution_count": 259,
     "metadata": {},
     "output_type": "execute_result"
    }
   ],
   "source": [
    "np.log(prob_spam) + np.log(prob_token_spam)"
   ]
  },
  {
   "cell_type": "code",
   "execution_count": 260,
   "id": "a88a707b",
   "metadata": {},
   "outputs": [],
   "source": [
    "joint_log_ham = x_test.dot(np.log(prob_token_ham) - np.log(prob_all_tokens))+np.log(1-prob_spam)"
   ]
  },
  {
   "cell_type": "code",
   "execution_count": 261,
   "id": "86158007",
   "metadata": {},
   "outputs": [
    {
     "data": {
      "text/plain": [
       "array([[0., 0., 1., ..., 0., 0., 0.],\n",
       "       [6., 1., 1., ..., 0., 0., 0.],\n",
       "       [0., 0., 1., ..., 0., 0., 0.],\n",
       "       ...,\n",
       "       [0., 4., 0., ..., 0., 0., 0.],\n",
       "       [1., 1., 1., ..., 0., 0., 0.],\n",
       "       [3., 1., 0., ..., 0., 0., 0.]])"
      ]
     },
     "execution_count": 261,
     "metadata": {},
     "output_type": "execute_result"
    }
   ],
   "source": [
    "x_test"
   ]
  },
  {
   "cell_type": "code",
   "execution_count": null,
   "id": "39d16791",
   "metadata": {},
   "outputs": [],
   "source": []
  },
  {
   "cell_type": "code",
   "execution_count": null,
   "id": "6d38c5f1",
   "metadata": {},
   "outputs": [],
   "source": []
  }
 ],
 "metadata": {
  "kernelspec": {
   "display_name": "Python 3 (ipykernel)",
   "language": "python",
   "name": "python3"
  },
  "language_info": {
   "codemirror_mode": {
    "name": "ipython",
    "version": 3
   },
   "file_extension": ".py",
   "mimetype": "text/x-python",
   "name": "python",
   "nbconvert_exporter": "python",
   "pygments_lexer": "ipython3",
   "version": "3.10.7"
  }
 },
 "nbformat": 4,
 "nbformat_minor": 5
}
