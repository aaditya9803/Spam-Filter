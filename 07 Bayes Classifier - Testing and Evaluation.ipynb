{
 "cells": [
  {
   "cell_type": "code",
   "execution_count": 419,
   "id": "84106260",
   "metadata": {},
   "outputs": [],
   "source": [
    "import pandas as pd\n",
    "import numpy as np\n",
    "import matplotlib.pyplot as plt\n",
    "import seaborn as sns\n",
    "%matplotlib inline"
   ]
  },
  {
   "cell_type": "code",
   "execution_count": 420,
   "id": "42698986",
   "metadata": {},
   "outputs": [],
   "source": [
    "vocab_size = 2500\n",
    "token_spam_prob_file ='SpamData/03_Testing/prob-spam.txt'\n",
    "token_ham_prob_file ='SpamData/03_Testing/prob-nonspam.txt'\n",
    "token_all_prob_file ='SpamData/03_Testing/prob-all-tokens.txt'\n",
    "test_feature_matrix_01 = 'SpamData/03_Testing/test-feature-01.txt'\n",
    "test_feature_matrix_02 = 'SpamData/03_Testing/test-feature-02.txt'\n",
    "test_feature_matrix_03 = 'SpamData/03_Testing/test-feature-03.txt'\n",
    "test_feature_matrix_04 = 'SpamData/03_Testing/test-feature-04.txt'\n",
    "test_feature_matrix_05 = 'SpamData/03_Testing/test-feature-05.txt'\n",
    "test_feature_matrix_06 = 'SpamData/03_Testing/test-feature-06.txt'\n",
    "test_feature_matrix_07 = 'SpamData/03_Testing/test-feature-07.txt'\n",
    "test_feature_matrix_08 = 'SpamData/03_Testing/test-feature-08.txt'\n",
    "test_target_file = 'SpamData/03_Testing/test-target.txt'\n",
    "x_test_orginal_file = 'SpamData/03_Testing/orginal.txt'"
   ]
  },
  {
   "cell_type": "code",
   "execution_count": 421,
   "id": "ba038ce6",
   "metadata": {},
   "outputs": [],
   "source": [
    "x_test_orginal = np.loadtxt(x_test_orginal_file, delimiter=' ')\n",
    "y_test = np.loadtxt(test_target_file, delimiter=' ')\n",
    "x_test_01 = np.loadtxt(test_feature_matrix_01, delimiter=' ')\n",
    "x_test_02 = np.loadtxt(test_feature_matrix_02, delimiter=' ')\n",
    "x_test_03 = np.loadtxt(test_feature_matrix_03, delimiter=' ')\n",
    "x_test_04 = np.loadtxt(test_feature_matrix_04, delimiter=' ')\n",
    "x_test_05 = np.loadtxt(test_feature_matrix_05, delimiter=' ')\n",
    "x_test_06 = np.loadtxt(test_feature_matrix_06, delimiter=' ')\n",
    "x_test_07 = np.loadtxt(test_feature_matrix_07, delimiter=' ')\n",
    "x_test_08 = np.loadtxt(test_feature_matrix_08, delimiter=' ')\n",
    "prob_token_spam = np.loadtxt(token_spam_prob_file, delimiter=' ')\n",
    "prob_token_ham = np.loadtxt(token_ham_prob_file, delimiter=' ')\n",
    "prob_all_tokens = np.loadtxt(token_all_prob_file, delimiter=' ')"
   ]
  },
  {
   "cell_type": "code",
   "execution_count": 422,
   "id": "078f871f",
   "metadata": {},
   "outputs": [
    {
     "data": {
      "text/plain": [
       "numpy.ndarray"
      ]
     },
     "execution_count": 422,
     "metadata": {},
     "output_type": "execute_result"
    }
   ],
   "source": [
    " type(x_test_01)"
   ]
  },
  {
   "cell_type": "code",
   "execution_count": 423,
   "id": "6bd65406",
   "metadata": {},
   "outputs": [],
   "source": [
    "x_test_part_1 = np.concatenate((x_test_01,x_test_02),axis=0)\n",
    "x_test_part_2 = np.concatenate((x_test_03,x_test_04),axis=0)\n",
    "x_test_part_3 = np.concatenate((x_test_05,x_test_06),axis=0)\n",
    "x_test_part_4 = np.concatenate((x_test_07,x_test_08),axis=0)\n",
    "x_test_final_1 = np.concatenate((x_test_part_1,x_test_part_2),axis=0)\n",
    "x_test_final_2 = np.concatenate((x_test_part_3,x_test_part_4),axis=0)\n",
    "x_test = np.concatenate((x_test_final_1,x_test_final_2),axis=0)"
   ]
  },
  {
   "cell_type": "code",
   "execution_count": 424,
   "id": "36a50cd3",
   "metadata": {},
   "outputs": [],
   "source": [
    "# pd.DataFrame(x_test_part_1)"
   ]
  },
  {
   "cell_type": "code",
   "execution_count": 425,
   "id": "0e281321",
   "metadata": {},
   "outputs": [
    {
     "data": {
      "text/plain": [
       "(5737, 2500)"
      ]
     },
     "execution_count": 425,
     "metadata": {},
     "output_type": "execute_result"
    }
   ],
   "source": [
    "x_test.shape"
   ]
  },
  {
   "cell_type": "markdown",
   "id": "c20441ce",
   "metadata": {},
   "source": [
    "# Joint Probability\n",
    "  \n",
    "   ## P(AnB) = P(A) x P(B)"
   ]
  },
  {
   "cell_type": "markdown",
   "id": "d264dfdd",
   "metadata": {},
   "source": [
    "# Independence\n",
    "##     P(Spam | Viagra) x P(Spam | Free)"
   ]
  },
  {
   "cell_type": "markdown",
   "id": "317e0d42",
   "metadata": {},
   "source": [
    "#### for example in a sentence, \n",
    "#### \"Hello friend, want free viagra?\"\n",
    "\n",
    "### $$P(Spam|Hello)\\,\\,\\, \\,\\,\\, P(Spam|Want)\\,\\,\\, x \\,\\,\\,P(Spam|free) \\,\\,\\,x \\,\\,\\, P(Spam|Viagra)$$\n"
   ]
  },
  {
   "cell_type": "markdown",
   "id": "dc380444",
   "metadata": {},
   "source": [
    "## Calculating the joint Probability"
   ]
  },
  {
   "cell_type": "code",
   "execution_count": 426,
   "id": "ce74f340",
   "metadata": {},
   "outputs": [
    {
     "name": "stdout",
     "output_type": "stream",
     "text": [
      "a =  [1 2 3]\n",
      "b =  [0 5 4]\n"
     ]
    }
   ],
   "source": [
    "#Dot Product\n",
    "a= np.array([1,2,3])\n",
    "b=np.array([0,5,4])\n",
    "print('a = ',a)\n",
    "print('b = ',b)"
   ]
  },
  {
   "cell_type": "code",
   "execution_count": 427,
   "id": "5a0269fd",
   "metadata": {},
   "outputs": [
    {
     "data": {
      "text/plain": [
       "22"
      ]
     },
     "execution_count": 427,
     "metadata": {},
     "output_type": "execute_result"
    }
   ],
   "source": [
    "# 1*0 + 2*5 + 3*4\n",
    "a.dot(b)"
   ]
  },
  {
   "cell_type": "code",
   "execution_count": 428,
   "id": "ed9a9aef",
   "metadata": {},
   "outputs": [
    {
     "data": {
      "text/plain": [
       "array([21,  9])"
      ]
     },
     "execution_count": 428,
     "metadata": {},
     "output_type": "execute_result"
    }
   ],
   "source": [
    "c= np.array([[0,6],[3,0],[5,1]])\n",
    "# [ 1*0 + 2*3 + 3*5  ,  1*6 + 2*0 + 3*1 ]\n",
    "a.dot(c)"
   ]
  },
  {
   "cell_type": "code",
   "execution_count": 429,
   "id": "10f7c4bb",
   "metadata": {},
   "outputs": [
    {
     "name": "stdout",
     "output_type": "stream",
     "text": [
      "x_test shape (5737, 2500)\n",
      "prob token spam shape (2500,)\n",
      "prob token non-spam shape (2500,)\n"
     ]
    }
   ],
   "source": [
    "#Finding Dot product between x_test and & prob_token_spam\n",
    "print('x_test shape',x_test.shape)\n",
    "print('prob token spam shape',prob_token_spam.shape)\n",
    "print('prob token non-spam shape',prob_token_ham.shape)"
   ]
  },
  {
   "cell_type": "code",
   "execution_count": 430,
   "id": "05cd53fb",
   "metadata": {},
   "outputs": [
    {
     "name": "stdout",
     "output_type": "stream",
     "text": [
      "Shape of dot product   (5737,)\n"
     ]
    }
   ],
   "source": [
    "print('Shape of dot product  ',x_test.dot(prob_token_spam).shape)"
   ]
  },
  {
   "cell_type": "markdown",
   "id": "588d3be2",
   "metadata": {},
   "source": [
    "## Set the Prior\n"
   ]
  },
  {
   "cell_type": "markdown",
   "id": "be53a651",
   "metadata": {},
   "source": [
    "$$ P(Spam \\, | \\, X) = \\frac{P(X \\, | \\, Spam \\,) \\, P(Spam)}{P(X)}$$"
   ]
  },
  {
   "cell_type": "code",
   "execution_count": 431,
   "id": "60de9a26",
   "metadata": {},
   "outputs": [],
   "source": [
    "# Now using the log for calculation, for easier interpretation as the values are closer.. using log will spread them out..\n",
    "# log(P(Spam | X)) - log(P(Tokens)) + log(P(Spam))"
   ]
  },
  {
   "cell_type": "code",
   "execution_count": 432,
   "id": "976a6ebd",
   "metadata": {},
   "outputs": [],
   "source": [
    "#We set the prior as per the knowledge from previous notebook.. where we got proability of email being spam was 0.3105\n",
    "prob_spam = 0.3105"
   ]
  },
  {
   "cell_type": "code",
   "execution_count": 433,
   "id": "e01ad546",
   "metadata": {},
   "outputs": [
    {
     "data": {
      "text/plain": [
       "array([ -4.47993685,  -5.26433558,  -4.96239915, ...,  -9.34882785,\n",
       "        -9.29166943, -11.48889401])"
      ]
     },
     "execution_count": 433,
     "metadata": {},
     "output_type": "execute_result"
    }
   ],
   "source": [
    "#Calculating the log probabilities of tokens given that the email is Spam.. (it's stored in prob_token_spam)\n",
    "np.log(prob_token_spam)"
   ]
  },
  {
   "cell_type": "code",
   "execution_count": 434,
   "id": "9e7c89f1",
   "metadata": {},
   "outputs": [
    {
     "data": {
      "text/plain": [
       "array([-4.07344866, -4.80077808, -4.87111077, ..., -9.54598191,\n",
       "       -9.6795133 , -9.5777306 ])"
      ]
     },
     "execution_count": 434,
     "metadata": {},
     "output_type": "execute_result"
    }
   ],
   "source": [
    "np.log(prob_all_tokens)"
   ]
  },
  {
   "cell_type": "code",
   "execution_count": 435,
   "id": "453f683a",
   "metadata": {},
   "outputs": [
    {
     "name": "stdout",
     "output_type": "stream",
     "text": [
      "shape (5737,)\n",
      "first-5   [-1.16957138 -1.16957138 -1.16957138 -1.16957138 -1.16957138]\n"
     ]
    }
   ],
   "source": [
    "#Joint Probability in log format\n",
    "joint_log_spam = x_test_orginal.dot(np.log(prob_token_spam)-np.log(prob_all_tokens)) + np.log(prob_spam)\n",
    "print('shape',joint_log_spam.shape)\n",
    "print('first-5  ',joint_log_spam[:5])"
   ]
  },
  {
   "cell_type": "code",
   "execution_count": 436,
   "id": "e75858a1",
   "metadata": {},
   "outputs": [],
   "source": [
    "#Calculating the log probabilities that emails are nonspam given their tokens.Storing it in joint_log_ham"
   ]
  },
  {
   "cell_type": "markdown",
   "id": "79e0e673",
   "metadata": {},
   "source": [
    "$$ P(Ham \\, | \\, X) = \\frac{P(X \\, | \\, Ham \\,) \\, (1-P(Spam))}{P(X)}$$"
   ]
  },
  {
   "cell_type": "code",
   "execution_count": 437,
   "id": "66d22d80",
   "metadata": {},
   "outputs": [],
   "source": [
    "joint_log_ham = x_test.dot(np.log(prob_token_ham) - np.log(prob_all_tokens))+np.log(1-prob_spam)"
   ]
  },
  {
   "cell_type": "code",
   "execution_count": 438,
   "id": "de6fa6bc",
   "metadata": {},
   "outputs": [
    {
     "name": "stdout",
     "output_type": "stream",
     "text": [
      "shape (5737,)\n",
      "first-5   [-0.37178858 -0.37178858 -0.37178858 -0.37178858 -0.37178858]\n"
     ]
    }
   ],
   "source": [
    "print('shape',joint_log_ham.shape)\n",
    "print('first-5  ',joint_log_ham[:5])"
   ]
  },
  {
   "cell_type": "markdown",
   "id": "9296a57c",
   "metadata": {},
   "source": [
    "# Making Prediction Comparing Joint Probabilites"
   ]
  },
  {
   "cell_type": "markdown",
   "id": "56e18194",
   "metadata": {},
   "source": [
    "## <center> P(Spam|hello) x P(Spam|want) x P(Spam|free) x P(Spam|viagra) </center>"
   ]
  },
  {
   "cell_type": "markdown",
   "id": "bc4728b7",
   "metadata": {},
   "source": [
    "# <center> VS </center>"
   ]
  },
  {
   "cell_type": "markdown",
   "id": "f07edea9",
   "metadata": {},
   "source": [
    "## <center> P(Ham|hello) x P(Ham|want) x P(Ham|free) x P(Ham|viagra) </center>"
   ]
  },
  {
   "cell_type": "markdown",
   "id": "770555a5",
   "metadata": {},
   "source": [
    "### Checking for Higher Joint Probability"
   ]
  },
  {
   "cell_type": "markdown",
   "id": "86b66e35",
   "metadata": {},
   "source": [
    "$$ P(Spam \\, | \\, X) \\, > \\, P(Ham \\,|\\, X) $$"
   ]
  },
  {
   "cell_type": "markdown",
   "id": "0b593ee8",
   "metadata": {},
   "source": [
    "<center> OR </center>"
   ]
  },
  {
   "cell_type": "markdown",
   "id": "44726d9e",
   "metadata": {},
   "source": [
    "$$ P(Spam \\, | \\, X) \\, < \\, P(Ham \\, | \\, X) $$"
   ]
  },
  {
   "cell_type": "markdown",
   "id": "3af3de77",
   "metadata": {},
   "source": [
    "##### Creating The vector Prediction for $\\hat y$ ... And Storing it as 'prediction'"
   ]
  },
  {
   "cell_type": "code",
   "execution_count": 439,
   "id": "87ca2d88",
   "metadata": {},
   "outputs": [
    {
     "data": {
      "text/plain": [
       "array([False, False, False, False, False])"
      ]
     },
     "execution_count": 439,
     "metadata": {},
     "output_type": "execute_result"
    }
   ],
   "source": [
    "prediction = joint_log_spam > joint_log_ham\n",
    "prediction [-5:]"
   ]
  },
  {
   "cell_type": "code",
   "execution_count": 440,
   "id": "2921c1f0",
   "metadata": {},
   "outputs": [
    {
     "data": {
      "text/plain": [
       "array([0, 0, 0, 0, 0])"
      ]
     },
     "execution_count": 440,
     "metadata": {},
     "output_type": "execute_result"
    }
   ],
   "source": [
    "# Boolean to integers -> \n",
    "prediction[-5:]*1"
   ]
  },
  {
   "cell_type": "markdown",
   "id": "58171d82",
   "metadata": {},
   "source": [
    "## Simplifying"
   ]
  },
  {
   "cell_type": "code",
   "execution_count": 441,
   "id": "cfdcf8b3",
   "metadata": {},
   "outputs": [],
   "source": [
    "joint_log_spam = x_test.dot(np.log(prob_token_spam)) + np.log(prob_spam)\n",
    "joint_log_ham = x_test.dot(np.log(prob_token_ham)) + np.log(1-prob_spam)"
   ]
  },
  {
   "cell_type": "markdown",
   "id": "9dfba7b1",
   "metadata": {},
   "source": [
    "$$ P(X\\,|\\,Spam)\\,P(Spam) \\,≠\\, \\frac{P(X\\,|\\,Spam)\\,P(Spam)}{P(X)}$$"
   ]
  },
  {
   "cell_type": "markdown",
   "id": "661c305f",
   "metadata": {},
   "source": [
    "# Model Evaluation"
   ]
  },
  {
   "cell_type": "markdown",
   "id": "ba370cf1",
   "metadata": {},
   "source": [
    "### Accuracy"
   ]
  },
  {
   "cell_type": "code",
   "execution_count": 442,
   "id": "808b6678",
   "metadata": {},
   "outputs": [
    {
     "name": "stdout",
     "output_type": "stream",
     "text": [
      "Docs classified correctly 5146\n"
     ]
    }
   ],
   "source": [
    "correct_docs =(y_test == prediction).sum()\n",
    "print('Docs classified correctly',correct_docs)"
   ]
  },
  {
   "cell_type": "code",
   "execution_count": 443,
   "id": "1838bbfa",
   "metadata": {},
   "outputs": [
    {
     "name": "stdout",
     "output_type": "stream",
     "text": [
      "Docs classified incorrectly 591\n"
     ]
    }
   ],
   "source": [
    "incorrect_docs = x_test.shape[0]-correct_docs\n",
    "print('Docs classified incorrectly',incorrect_docs)"
   ]
  },
  {
   "cell_type": "code",
   "execution_count": 444,
   "id": "c5348664",
   "metadata": {},
   "outputs": [
    {
     "name": "stdout",
     "output_type": "stream",
     "text": [
      "incorrect is  10.30%\n",
      "correct is 89.70%\n"
     ]
    }
   ],
   "source": [
    "#Accuracy percentage\n",
    "fraction_wrong = incorrect_docs/len(x_test)\n",
    "print('incorrect is  {:.2%}'.format(fraction_wrong))\n",
    "print('correct is {:.2%}'.format(1-fraction_wrong))"
   ]
  },
  {
   "cell_type": "markdown",
   "id": "9c194282",
   "metadata": {},
   "source": [
    "# Visualizing the Decision Boundary"
   ]
  },
  {
   "cell_type": "code",
   "execution_count": 453,
   "id": "6d2b142f",
   "metadata": {},
   "outputs": [],
   "source": [
    "# #Chart styling info\n",
    "# linedata = np.linspace(start=-14000,stop=1,num=1000)\n",
    "# yaxis_label ='P(X|Spam)'\n",
    "# xaxis_label ='P(X|NonSpam)'\n",
    "# plt.figure(figsize=(11,7))\n",
    "# plt.xlabel(xaxis_label,fontsize=14)\n",
    "# plt.ylabel(yaxis_label,fontsize=14)\n",
    "# plt.xlim([-14000,1])\n",
    "# plt.ylim([-14000,1])\n",
    "# plt.scatter(joint_log_ham[0],joint_log_spam[0],color=\"navy\")\n",
    "# plt.show()"
   ]
  },
  {
   "cell_type": "code",
   "execution_count": 454,
   "id": "e86a5629",
   "metadata": {},
   "outputs": [],
   "source": [
    "# plt.figure(figsize=(11,7))\n",
    "# plt.xlabel(xaxis_label,fontsize=14)\n",
    "# plt.ylabel(yaxis_label,fontsize=14)\n",
    "# plt.xlim([-20000,1])\n",
    "# plt.ylim([-20000,1])\n",
    "# plt.scatter(joint_log_ham,joint_log_spam,color=\"navy\")\n",
    "# plt.plot(linedata,linedata,color='orange')\n",
    "# plt.show()"
   ]
  },
  {
   "cell_type": "code",
   "execution_count": 447,
   "id": "0ddd8c19",
   "metadata": {},
   "outputs": [
    {
     "data": {
      "text/plain": [
       "(5737,)"
      ]
     },
     "execution_count": 447,
     "metadata": {},
     "output_type": "execute_result"
    }
   ],
   "source": [
    "joint_log_spam.shape"
   ]
  },
  {
   "cell_type": "code",
   "execution_count": 448,
   "id": "12c0f628",
   "metadata": {},
   "outputs": [],
   "source": [
    "# (joint_log_spam[2100:2500])"
   ]
  },
  {
   "cell_type": "code",
   "execution_count": null,
   "id": "001de21b",
   "metadata": {},
   "outputs": [],
   "source": []
  },
  {
   "cell_type": "code",
   "execution_count": 449,
   "id": "c88bc7c2",
   "metadata": {},
   "outputs": [
    {
     "data": {
      "text/plain": [
       "array([1.13341289e-02, 5.17282882e-03, 6.99612294e-03, ...,\n",
       "       8.70674158e-05, 9.21890285e-05, 1.02432254e-05])"
      ]
     },
     "execution_count": 449,
     "metadata": {},
     "output_type": "execute_result"
    }
   ],
   "source": [
    "prob_token_spam"
   ]
  },
  {
   "cell_type": "code",
   "execution_count": 450,
   "id": "f687ea9f",
   "metadata": {},
   "outputs": [
    {
     "data": {
      "text/plain": [
       "array([2.10080932e-02, 1.03855434e-02, 8.03102064e-03, ...,\n",
       "       6.60509680e-05, 4.66242127e-05, 1.20445883e-04])"
      ]
     },
     "execution_count": 450,
     "metadata": {},
     "output_type": "execute_result"
    }
   ],
   "source": [
    "prob_token_ham"
   ]
  },
  {
   "cell_type": "code",
   "execution_count": null,
   "id": "76ef0232",
   "metadata": {},
   "outputs": [],
   "source": []
  }
 ],
 "metadata": {
  "kernelspec": {
   "display_name": "Python 3 (ipykernel)",
   "language": "python",
   "name": "python3"
  },
  "language_info": {
   "codemirror_mode": {
    "name": "ipython",
    "version": 3
   },
   "file_extension": ".py",
   "mimetype": "text/x-python",
   "name": "python",
   "nbconvert_exporter": "python",
   "pygments_lexer": "ipython3",
   "version": "3.10.7"
  }
 },
 "nbformat": 4,
 "nbformat_minor": 5
}
