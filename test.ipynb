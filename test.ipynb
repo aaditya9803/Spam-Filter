{
 "cells": [
  {
   "cell_type": "code",
   "execution_count": 32,
   "id": "58a88c64",
   "metadata": {},
   "outputs": [],
   "source": [
    "import pandas as pd\n",
    "import numpy as np\n",
    "test_a_1 ='test/test_a_1.txt'\n",
    "test_a_2 ='test/test_a_2.txt'\n",
    "test_a_3 ='test/test_a_3.txt'\n",
    "test_df ='test/test_df.txt'\n",
    "from sklearn.model_selection import train_test_split"
   ]
  },
  {
   "cell_type": "code",
   "execution_count": 3,
   "id": "89f552da",
   "metadata": {},
   "outputs": [],
   "source": [
    "df = pd.DataFrame({'A' : ['foo', 'bar', 'foo', 'bar','foo', 'bar', 'foo', 'foo'],\n",
    "                    0 : ['one', 'one', 'two', 'three','two', 'two', 'one', 'three'],\n",
    "                    1 : ['a', 'b', 'c', 'd','e', 'f', 'g', 'h']})"
   ]
  },
  {
   "cell_type": "code",
   "execution_count": 4,
   "id": "9b6734f4",
   "metadata": {},
   "outputs": [
    {
     "name": "stdout",
     "output_type": "stream",
     "text": [
      "     A      0  1\n",
      "0  foo    one  a\n",
      "1  bar    one  b\n",
      "2  foo    two  c\n",
      "3  bar  three  d\n",
      "4  foo    two  e\n",
      "5  bar    two  f\n",
      "6  foo    one  g\n",
      "7  foo  three  h\n"
     ]
    }
   ],
   "source": [
    "print (df)"
   ]
  },
  {
   "cell_type": "code",
   "execution_count": 50,
   "id": "4da6bec3",
   "metadata": {},
   "outputs": [],
   "source": [
    "b = np.array_split(df,3)"
   ]
  },
  {
   "cell_type": "code",
   "execution_count": 6,
   "id": "e65b2371",
   "metadata": {},
   "outputs": [
    {
     "name": "stdout",
     "output_type": "stream",
     "text": [
      "<class 'list'>\n",
      "\n",
      "\n",
      "[     A    0  1\n",
      "0  foo  one  a\n",
      "1  bar  one  b\n",
      "2  foo  two  c,      A      0  1\n",
      "3  bar  three  d\n",
      "4  foo    two  e\n",
      "5  bar    two  f,      A      0  1\n",
      "6  foo    one  g\n",
      "7  foo  three  h]\n"
     ]
    }
   ],
   "source": [
    "print (type(b))\n",
    "print ('\\n')\n",
    "print (b)"
   ]
  },
  {
   "cell_type": "code",
   "execution_count": 7,
   "id": "569d7feb",
   "metadata": {},
   "outputs": [
    {
     "name": "stdout",
     "output_type": "stream",
     "text": [
      "                                                   0\n",
      "0       A    0  1\n",
      "0  foo  one  a\n",
      "1  bar  one  b\n",
      "2...\n",
      "1       A      0  1\n",
      "3  bar  three  d\n",
      "4  foo    tw...\n",
      "2       A      0  1\n",
      "6  foo    one  g\n",
      "7  foo  thre...\n"
     ]
    },
    {
     "name": "stderr",
     "output_type": "stream",
     "text": [
      "C:\\Python310\\lib\\site-packages\\pandas\\core\\internals\\construction.py:568: VisibleDeprecationWarning: Creating an ndarray from ragged nested sequences (which is a list-or-tuple of lists-or-tuples-or ndarrays with different lengths or shapes) is deprecated. If you meant to do this, you must specify 'dtype=object' when creating the ndarray.\n",
      "  values = np.array([convert(v) for v in values])\n"
     ]
    }
   ],
   "source": [
    "a = pd.DataFrame(b,dtype=object)\n",
    "print (a)"
   ]
  },
  {
   "cell_type": "code",
   "execution_count": 8,
   "id": "bc64653b",
   "metadata": {},
   "outputs": [
    {
     "name": "stdout",
     "output_type": "stream",
     "text": [
      "     A    0  1\n",
      "0  foo  one  a\n",
      "1  bar  one  b\n",
      "2  foo  two  c\n"
     ]
    }
   ],
   "source": [
    "print(a[0][0])"
   ]
  },
  {
   "cell_type": "code",
   "execution_count": 31,
   "id": "cfbc2a29",
   "metadata": {},
   "outputs": [
    {
     "name": "stdout",
     "output_type": "stream",
     "text": [
      "     A      0  1\n",
      "0  foo    one  a\n",
      "1  bar    one  b\n",
      "2  foo    two  c\n",
      "3  bar  three  d\n",
      "4  foo    two  e\n",
      "5  bar    two  f\n",
      "6  foo    one  g\n",
      "7  foo  three  h\n"
     ]
    }
   ],
   "source": [
    "c= np.append(arr=a[0][0],values=a[0][1],axis=0)\n",
    "d = pd.DataFrame(np.append(arr=c,values=a[0][2],axis=0),columns=(np.append(['A'],list(range(len(df.columns)-1)))))\n",
    "print(d)"
   ]
  },
  {
   "cell_type": "code",
   "execution_count": null,
   "id": "59050807",
   "metadata": {},
   "outputs": [],
   "source": []
  },
  {
   "cell_type": "code",
   "execution_count": 10,
   "id": "e27b28c2",
   "metadata": {},
   "outputs": [],
   "source": [
    "# np.savetxt(test_a_1,a)\n",
    "# # np.savetxt(test_a_2,a[1])\n",
    "# # np.savetxt(test_a_3,a[2])\n",
    "# np.savetxt(test_df,df)"
   ]
  },
  {
   "cell_type": "code",
   "execution_count": 16,
   "id": "9fee7bd0",
   "metadata": {},
   "outputs": [
    {
     "name": "stdout",
     "output_type": "stream",
     "text": [
      "[0, 1, 2, 3, 4]\n"
     ]
    }
   ],
   "source": [
    "list_1 = list(range(5))\n",
    "print(list_1)"
   ]
  },
  {
   "cell_type": "code",
   "execution_count": 28,
   "id": "c44389c8",
   "metadata": {},
   "outputs": [
    {
     "name": "stdout",
     "output_type": "stream",
     "text": [
      "[0, 1]\n",
      "['A' '0' '1']\n"
     ]
    }
   ],
   "source": [
    "list_2 = list(range(len(df.columns)-1))\n",
    "print (list_2)\n",
    "list_3 = np.append(['A'],(list_2))\n",
    "print(list_3)"
   ]
  },
  {
   "cell_type": "code",
   "execution_count": 33,
   "id": "671a5e6c",
   "metadata": {},
   "outputs": [
    {
     "name": "stdout",
     "output_type": "stream",
     "text": [
      "     A      0  1\n",
      "0  foo    one  a\n",
      "1  bar    one  b\n",
      "2  foo    two  c\n",
      "3  bar  three  d\n",
      "4  foo    two  e\n",
      "5  bar    two  f\n",
      "6  foo    one  g\n",
      "7  foo  three  h\n"
     ]
    }
   ],
   "source": [
    "print(d)"
   ]
  },
  {
   "cell_type": "code",
   "execution_count": 35,
   "id": "ecae9d6d",
   "metadata": {},
   "outputs": [],
   "source": [
    "#spliting and joining didn't work in 07 for x_test\n",
    "#Trying split train frm sk learn"
   ]
  },
  {
   "cell_type": "code",
   "execution_count": 38,
   "id": "15d36697",
   "metadata": {},
   "outputs": [],
   "source": [
    "part_1, part_2 = train_test_split(df,test_size=0.2,random_state=1)"
   ]
  },
  {
   "cell_type": "code",
   "execution_count": 39,
   "id": "6a2fe750",
   "metadata": {},
   "outputs": [
    {
     "name": "stdout",
     "output_type": "stream",
     "text": [
      "     A      0  1\n",
      "1  bar    one  b\n",
      "6  foo    one  g\n",
      "0  foo    one  a\n",
      "4  foo    two  e\n",
      "3  bar  three  d\n",
      "5  bar    two  f\n"
     ]
    }
   ],
   "source": [
    "print (part_1)"
   ]
  },
  {
   "cell_type": "code",
   "execution_count": 40,
   "id": "42e8b0c5",
   "metadata": {},
   "outputs": [],
   "source": [
    "#train_test_split doesn't give same sorting as the orginal file"
   ]
  },
  {
   "cell_type": "code",
   "execution_count": 51,
   "id": "edf393cc",
   "metadata": {},
   "outputs": [],
   "source": [
    "total_rows = len(df)\n",
    "test_rows = int(total_rows * 0.5)\n",
    "train_rows = total_rows - test_rows\n",
    "split_indices = [train_rows, total_rows]\n",
    "\n",
    "# Split the DataFrame based on the split indices\n",
    "train_df, test_df = df.iloc[:split_indices[0]], df.iloc[split_indices[0]:]"
   ]
  },
  {
   "cell_type": "code",
   "execution_count": 48,
   "id": "3e1ce70f",
   "metadata": {},
   "outputs": [
    {
     "data": {
      "text/html": [
       "<div>\n",
       "<style scoped>\n",
       "    .dataframe tbody tr th:only-of-type {\n",
       "        vertical-align: middle;\n",
       "    }\n",
       "\n",
       "    .dataframe tbody tr th {\n",
       "        vertical-align: top;\n",
       "    }\n",
       "\n",
       "    .dataframe thead th {\n",
       "        text-align: right;\n",
       "    }\n",
       "</style>\n",
       "<table border=\"1\" class=\"dataframe\">\n",
       "  <thead>\n",
       "    <tr style=\"text-align: right;\">\n",
       "      <th></th>\n",
       "      <th>A</th>\n",
       "      <th>0</th>\n",
       "      <th>1</th>\n",
       "    </tr>\n",
       "  </thead>\n",
       "  <tbody>\n",
       "    <tr>\n",
       "      <th>0</th>\n",
       "      <td>foo</td>\n",
       "      <td>one</td>\n",
       "      <td>a</td>\n",
       "    </tr>\n",
       "    <tr>\n",
       "      <th>1</th>\n",
       "      <td>bar</td>\n",
       "      <td>one</td>\n",
       "      <td>b</td>\n",
       "    </tr>\n",
       "    <tr>\n",
       "      <th>2</th>\n",
       "      <td>foo</td>\n",
       "      <td>two</td>\n",
       "      <td>c</td>\n",
       "    </tr>\n",
       "    <tr>\n",
       "      <th>3</th>\n",
       "      <td>bar</td>\n",
       "      <td>three</td>\n",
       "      <td>d</td>\n",
       "    </tr>\n",
       "  </tbody>\n",
       "</table>\n",
       "</div>"
      ],
      "text/plain": [
       "     A      0  1\n",
       "0  foo    one  a\n",
       "1  bar    one  b\n",
       "2  foo    two  c\n",
       "3  bar  three  d"
      ]
     },
     "execution_count": 48,
     "metadata": {},
     "output_type": "execute_result"
    }
   ],
   "source": [
    "train_df"
   ]
  },
  {
   "cell_type": "code",
   "execution_count": null,
   "id": "a53016d1",
   "metadata": {},
   "outputs": [],
   "source": []
  }
 ],
 "metadata": {
  "kernelspec": {
   "display_name": "Python 3 (ipykernel)",
   "language": "python",
   "name": "python3"
  },
  "language_info": {
   "codemirror_mode": {
    "name": "ipython",
    "version": 3
   },
   "file_extension": ".py",
   "mimetype": "text/x-python",
   "name": "python",
   "nbconvert_exporter": "python",
   "pygments_lexer": "ipython3",
   "version": "3.10.7"
  }
 },
 "nbformat": 4,
 "nbformat_minor": 5
}
