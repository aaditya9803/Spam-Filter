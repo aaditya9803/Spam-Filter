{
 "cells": [
  {
   "cell_type": "code",
   "execution_count": 1,
   "id": "3cb08420",
   "metadata": {},
   "outputs": [],
   "source": [
    "import pandas as pd\n",
    "import numpy as np"
   ]
  },
  {
   "cell_type": "code",
   "execution_count": 128,
   "id": "be01eca4",
   "metadata": {},
   "outputs": [],
   "source": [
    "train_data_file ='SpamData/02_Training/train_data.txt'\n",
    "test_data_file ='SpamData/02_Training/test_data.txt'\n",
    "vocab_size = 2500\n",
    "token_spam_prob_file ='SpamData/03_Testing/prob-spam.txt'\n",
    "token_ham_prob_file ='SpamData/03_Testing/prob-nonspam.txt'\n",
    "token_all_prob_file ='SpamData/03_Testing/prob-all-tokens.txt'\n",
    "test_feature_matrix_01 = 'SpamData/03_Testing/test-feature-01.txt'\n",
    "test_feature_matrix_02 = 'SpamData/03_Testing/test-feature-02.txt'\n",
    "test_feature_matrix_03 = 'SpamData/03_Testing/test-feature-03.txt'\n",
    "test_feature_matrix_04 = 'SpamData/03_Testing/test-feature-04.txt'\n",
    "test_feature_matrix_05 = 'SpamData/03_Testing/test-feature-05.txt'\n",
    "test_feature_matrix_06 = 'SpamData/03_Testing/test-feature-06.txt'\n",
    "test_feature_matrix_07 = 'SpamData/03_Testing/test-feature-07.txt'\n",
    "test_feature_matrix_08 = 'SpamData/03_Testing/test-feature-08.txt'\n",
    "test_target_file = 'SpamData/03_Testing/test-target.txt'"
   ]
  },
  {
   "cell_type": "code",
   "execution_count": 3,
   "id": "a40d3946",
   "metadata": {},
   "outputs": [],
   "source": [
    "#Read and Load features from .txt files into numpy array\n",
    "sparse_train_data = np.loadtxt(train_data_file,delimiter=' ',dtype=int)\n",
    "sparse_test_data = np.loadtxt(test_data_file,delimiter=' ',dtype=int)"
   ]
  },
  {
   "cell_type": "code",
   "execution_count": 4,
   "id": "b3ea400d",
   "metadata": {},
   "outputs": [
    {
     "data": {
      "text/plain": [
       "array([[ 0,  2,  1,  1],\n",
       "       [ 0,  3,  1,  2],\n",
       "       [ 0,  4,  1,  1],\n",
       "       [ 0,  7,  1,  3],\n",
       "       [ 0, 11,  1,  1]])"
      ]
     },
     "execution_count": 4,
     "metadata": {},
     "output_type": "execute_result"
    }
   ],
   "source": [
    "sparse_train_data[:5] #first 5 rows"
   ]
  },
  {
   "cell_type": "code",
   "execution_count": 5,
   "id": "32c440f7",
   "metadata": {},
   "outputs": [
    {
     "data": {
      "text/plain": [
       "array([[5798, 2035,    0,    2],\n",
       "       [5798, 2040,    0,    1],\n",
       "       [5798, 2272,    0,    1],\n",
       "       [5798, 2342,    0,    1],\n",
       "       [5798, 2370,    0,    1]])"
      ]
     },
     "execution_count": 5,
     "metadata": {},
     "output_type": "execute_result"
    }
   ],
   "source": [
    "sparse_train_data[-5:] #last 5 rows"
   ]
  },
  {
   "cell_type": "code",
   "execution_count": 6,
   "id": "1b750ca5",
   "metadata": {},
   "outputs": [
    {
     "name": "stdout",
     "output_type": "stream",
     "text": [
      "263535 ==> No of rows in TRAIN file\n",
      "112601 ==> No of rows in TEST file\n"
     ]
    }
   ],
   "source": [
    "print(sparse_train_data.shape[0],'==> No of rows in TRAIN file')\n",
    "print(sparse_test_data.shape[0],'==> No of rows in TEST file')"
   ]
  },
  {
   "cell_type": "code",
   "execution_count": 7,
   "id": "8dab8eda",
   "metadata": {},
   "outputs": [
    {
     "name": "stdout",
     "output_type": "stream",
     "text": [
      "4012 ==> No of emails in TRAIN file\n",
      "1725 ==> No of emails in TEST file\n"
     ]
    }
   ],
   "source": [
    "print(np.unique(sparse_train_data[:,0]).size,'==> No of emails in TRAIN file')\n",
    "print(np.unique(sparse_test_data[:,0]).size,'==> No of emails in TEST file')\n",
    "#[:,0] ==> Notation for selecting all the rows in the 0th column."
   ]
  },
  {
   "cell_type": "markdown",
   "id": "679a5dbd",
   "metadata": {},
   "source": [
    "# Creating a full Matrix"
   ]
  },
  {
   "cell_type": "code",
   "execution_count": 8,
   "id": "4976f17b",
   "metadata": {},
   "outputs": [
    {
     "data": {
      "text/plain": [
       "['DOC_ID', 'CATEGORY', 0, 1, 2]"
      ]
     },
     "execution_count": 8,
     "metadata": {},
     "output_type": "execute_result"
    }
   ],
   "source": [
    "column_names=['DOC_ID']+['CATEGORY']+list(range(0,vocab_size))\n",
    "column_names[:5]"
   ]
  },
  {
   "cell_type": "code",
   "execution_count": 9,
   "id": "bdaa751f",
   "metadata": {},
   "outputs": [
    {
     "data": {
      "text/plain": [
       "2502"
      ]
     },
     "execution_count": 9,
     "metadata": {},
     "output_type": "execute_result"
    }
   ],
   "source": [
    "len(column_names)"
   ]
  },
  {
   "cell_type": "code",
   "execution_count": 10,
   "id": "595fdd69",
   "metadata": {},
   "outputs": [
    {
     "data": {
      "text/plain": [
       "array([   0,    1,    2, ..., 5796, 5797, 5798])"
      ]
     },
     "execution_count": 10,
     "metadata": {},
     "output_type": "execute_result"
    }
   ],
   "source": [
    "index_names = np.unique(sparse_train_data[:,0])\n",
    "index_names"
   ]
  },
  {
   "cell_type": "code",
   "execution_count": 11,
   "id": "44fce862",
   "metadata": {},
   "outputs": [],
   "source": [
    "full_train_data = pd.DataFrame(index=index_names,columns=column_names)\n",
    "full_train_data.fillna(value=0,inplace=True)\n",
    "#fillna fills the na values with 0s"
   ]
  },
  {
   "cell_type": "code",
   "execution_count": 12,
   "id": "5ca8a393",
   "metadata": {},
   "outputs": [
    {
     "data": {
      "text/html": [
       "<div>\n",
       "<style scoped>\n",
       "    .dataframe tbody tr th:only-of-type {\n",
       "        vertical-align: middle;\n",
       "    }\n",
       "\n",
       "    .dataframe tbody tr th {\n",
       "        vertical-align: top;\n",
       "    }\n",
       "\n",
       "    .dataframe thead th {\n",
       "        text-align: right;\n",
       "    }\n",
       "</style>\n",
       "<table border=\"1\" class=\"dataframe\">\n",
       "  <thead>\n",
       "    <tr style=\"text-align: right;\">\n",
       "      <th></th>\n",
       "      <th>DOC_ID</th>\n",
       "      <th>CATEGORY</th>\n",
       "      <th>0</th>\n",
       "      <th>1</th>\n",
       "      <th>2</th>\n",
       "      <th>3</th>\n",
       "      <th>4</th>\n",
       "      <th>5</th>\n",
       "      <th>6</th>\n",
       "      <th>7</th>\n",
       "      <th>...</th>\n",
       "      <th>2490</th>\n",
       "      <th>2491</th>\n",
       "      <th>2492</th>\n",
       "      <th>2493</th>\n",
       "      <th>2494</th>\n",
       "      <th>2495</th>\n",
       "      <th>2496</th>\n",
       "      <th>2497</th>\n",
       "      <th>2498</th>\n",
       "      <th>2499</th>\n",
       "    </tr>\n",
       "  </thead>\n",
       "  <tbody>\n",
       "    <tr>\n",
       "      <th>0</th>\n",
       "      <td>0</td>\n",
       "      <td>0</td>\n",
       "      <td>0</td>\n",
       "      <td>0</td>\n",
       "      <td>0</td>\n",
       "      <td>0</td>\n",
       "      <td>0</td>\n",
       "      <td>0</td>\n",
       "      <td>0</td>\n",
       "      <td>0</td>\n",
       "      <td>...</td>\n",
       "      <td>0</td>\n",
       "      <td>0</td>\n",
       "      <td>0</td>\n",
       "      <td>0</td>\n",
       "      <td>0</td>\n",
       "      <td>0</td>\n",
       "      <td>0</td>\n",
       "      <td>0</td>\n",
       "      <td>0</td>\n",
       "      <td>0</td>\n",
       "    </tr>\n",
       "    <tr>\n",
       "      <th>1</th>\n",
       "      <td>0</td>\n",
       "      <td>0</td>\n",
       "      <td>0</td>\n",
       "      <td>0</td>\n",
       "      <td>0</td>\n",
       "      <td>0</td>\n",
       "      <td>0</td>\n",
       "      <td>0</td>\n",
       "      <td>0</td>\n",
       "      <td>0</td>\n",
       "      <td>...</td>\n",
       "      <td>0</td>\n",
       "      <td>0</td>\n",
       "      <td>0</td>\n",
       "      <td>0</td>\n",
       "      <td>0</td>\n",
       "      <td>0</td>\n",
       "      <td>0</td>\n",
       "      <td>0</td>\n",
       "      <td>0</td>\n",
       "      <td>0</td>\n",
       "    </tr>\n",
       "    <tr>\n",
       "      <th>2</th>\n",
       "      <td>0</td>\n",
       "      <td>0</td>\n",
       "      <td>0</td>\n",
       "      <td>0</td>\n",
       "      <td>0</td>\n",
       "      <td>0</td>\n",
       "      <td>0</td>\n",
       "      <td>0</td>\n",
       "      <td>0</td>\n",
       "      <td>0</td>\n",
       "      <td>...</td>\n",
       "      <td>0</td>\n",
       "      <td>0</td>\n",
       "      <td>0</td>\n",
       "      <td>0</td>\n",
       "      <td>0</td>\n",
       "      <td>0</td>\n",
       "      <td>0</td>\n",
       "      <td>0</td>\n",
       "      <td>0</td>\n",
       "      <td>0</td>\n",
       "    </tr>\n",
       "    <tr>\n",
       "      <th>3</th>\n",
       "      <td>0</td>\n",
       "      <td>0</td>\n",
       "      <td>0</td>\n",
       "      <td>0</td>\n",
       "      <td>0</td>\n",
       "      <td>0</td>\n",
       "      <td>0</td>\n",
       "      <td>0</td>\n",
       "      <td>0</td>\n",
       "      <td>0</td>\n",
       "      <td>...</td>\n",
       "      <td>0</td>\n",
       "      <td>0</td>\n",
       "      <td>0</td>\n",
       "      <td>0</td>\n",
       "      <td>0</td>\n",
       "      <td>0</td>\n",
       "      <td>0</td>\n",
       "      <td>0</td>\n",
       "      <td>0</td>\n",
       "      <td>0</td>\n",
       "    </tr>\n",
       "    <tr>\n",
       "      <th>4</th>\n",
       "      <td>0</td>\n",
       "      <td>0</td>\n",
       "      <td>0</td>\n",
       "      <td>0</td>\n",
       "      <td>0</td>\n",
       "      <td>0</td>\n",
       "      <td>0</td>\n",
       "      <td>0</td>\n",
       "      <td>0</td>\n",
       "      <td>0</td>\n",
       "      <td>...</td>\n",
       "      <td>0</td>\n",
       "      <td>0</td>\n",
       "      <td>0</td>\n",
       "      <td>0</td>\n",
       "      <td>0</td>\n",
       "      <td>0</td>\n",
       "      <td>0</td>\n",
       "      <td>0</td>\n",
       "      <td>0</td>\n",
       "      <td>0</td>\n",
       "    </tr>\n",
       "  </tbody>\n",
       "</table>\n",
       "<p>5 rows × 2502 columns</p>\n",
       "</div>"
      ],
      "text/plain": [
       "   DOC_ID  CATEGORY  0  1  2  3  4  5  6  7  ...  2490  2491  2492  2493  \\\n",
       "0       0         0  0  0  0  0  0  0  0  0  ...     0     0     0     0   \n",
       "1       0         0  0  0  0  0  0  0  0  0  ...     0     0     0     0   \n",
       "2       0         0  0  0  0  0  0  0  0  0  ...     0     0     0     0   \n",
       "3       0         0  0  0  0  0  0  0  0  0  ...     0     0     0     0   \n",
       "4       0         0  0  0  0  0  0  0  0  0  ...     0     0     0     0   \n",
       "\n",
       "   2494  2495  2496  2497  2498  2499  \n",
       "0     0     0     0     0     0     0  \n",
       "1     0     0     0     0     0     0  \n",
       "2     0     0     0     0     0     0  \n",
       "3     0     0     0     0     0     0  \n",
       "4     0     0     0     0     0     0  \n",
       "\n",
       "[5 rows x 2502 columns]"
      ]
     },
     "execution_count": 12,
     "metadata": {},
     "output_type": "execute_result"
    }
   ],
   "source": [
    "full_train_data.head()"
   ]
  },
  {
   "cell_type": "markdown",
   "id": "c3ce0f39",
   "metadata": {},
   "source": [
    "# Creating a Full Matrix from Sparse Matrix"
   ]
  },
  {
   "cell_type": "code",
   "execution_count": 13,
   "id": "1057370f",
   "metadata": {},
   "outputs": [],
   "source": [
    "def make_full_matrix(sparse_matrix,no_words,doc_idx=0,word_idx=1,cat_idx=2,freq_idx=3):\n",
    "    #no_words - size of vocabulary\n",
    "    #doc_idx=0 - position of document id in sparse matrix set to 1st column\n",
    "    #word_idx=1 - position of word id in sparse matrix set to 2nd column \n",
    "    #cat_idx=2 - position of label/category (spam -> 1 , non-spam -> 0) set to 3rd column\n",
    "    #freq_idx=3 - position of occurrence of word  id in sparse matrix set to 1st column\n",
    "    column_names = column_names=['DOC_ID']+['CATEGORY']+list(range(0,vocab_size))\n",
    "    doc_id_names = np.unique(sparse_matrix[:,0])\n",
    "    full_matrix = pd.DataFrame(index=index_names,columns=column_names)\n",
    "    full_matrix.fillna(value=0,inplace=True)\n",
    "    for i in range(sparse_matrix.shape[0]):\n",
    "        doc_no = sparse_matrix[i][doc_idx]\n",
    "        word_id = sparse_matrix[i][word_idx]\n",
    "        label = sparse_matrix[i][cat_idx]\n",
    "        occurence = sparse_matrix[i][freq_idx]\n",
    "        \n",
    "        full_matrix.at[doc_no,'DOC_ID'] = doc_no\n",
    "        full_matrix.at[doc_no,'CATEGORY'] = label\n",
    "        full_matrix.at[doc_no,word_id] = occurence\n",
    "    full_matrix.set_index('DOC_ID',inplace=True)\n",
    "    return full_matrix"
   ]
  },
  {
   "cell_type": "code",
   "execution_count": 14,
   "id": "65d8fd91",
   "metadata": {},
   "outputs": [
    {
     "name": "stdout",
     "output_type": "stream",
     "text": [
      "CPU times: total: 31.5 s\n",
      "Wall time: 31.9 s\n"
     ]
    }
   ],
   "source": [
    "%%time\n",
    "full_train_data = make_full_matrix(sparse_train_data,vocab_size)"
   ]
  },
  {
   "cell_type": "code",
   "execution_count": 15,
   "id": "36339b3a",
   "metadata": {},
   "outputs": [
    {
     "data": {
      "text/html": [
       "<div>\n",
       "<style scoped>\n",
       "    .dataframe tbody tr th:only-of-type {\n",
       "        vertical-align: middle;\n",
       "    }\n",
       "\n",
       "    .dataframe tbody tr th {\n",
       "        vertical-align: top;\n",
       "    }\n",
       "\n",
       "    .dataframe thead th {\n",
       "        text-align: right;\n",
       "    }\n",
       "</style>\n",
       "<table border=\"1\" class=\"dataframe\">\n",
       "  <thead>\n",
       "    <tr style=\"text-align: right;\">\n",
       "      <th></th>\n",
       "      <th>CATEGORY</th>\n",
       "      <th>0</th>\n",
       "      <th>1</th>\n",
       "      <th>2</th>\n",
       "      <th>3</th>\n",
       "      <th>4</th>\n",
       "      <th>5</th>\n",
       "      <th>6</th>\n",
       "      <th>7</th>\n",
       "      <th>8</th>\n",
       "      <th>...</th>\n",
       "      <th>2490</th>\n",
       "      <th>2491</th>\n",
       "      <th>2492</th>\n",
       "      <th>2493</th>\n",
       "      <th>2494</th>\n",
       "      <th>2495</th>\n",
       "      <th>2496</th>\n",
       "      <th>2497</th>\n",
       "      <th>2498</th>\n",
       "      <th>2499</th>\n",
       "    </tr>\n",
       "    <tr>\n",
       "      <th>DOC_ID</th>\n",
       "      <th></th>\n",
       "      <th></th>\n",
       "      <th></th>\n",
       "      <th></th>\n",
       "      <th></th>\n",
       "      <th></th>\n",
       "      <th></th>\n",
       "      <th></th>\n",
       "      <th></th>\n",
       "      <th></th>\n",
       "      <th></th>\n",
       "      <th></th>\n",
       "      <th></th>\n",
       "      <th></th>\n",
       "      <th></th>\n",
       "      <th></th>\n",
       "      <th></th>\n",
       "      <th></th>\n",
       "      <th></th>\n",
       "      <th></th>\n",
       "      <th></th>\n",
       "    </tr>\n",
       "  </thead>\n",
       "  <tbody>\n",
       "    <tr>\n",
       "      <th>0</th>\n",
       "      <td>1</td>\n",
       "      <td>0</td>\n",
       "      <td>0</td>\n",
       "      <td>1</td>\n",
       "      <td>2</td>\n",
       "      <td>1</td>\n",
       "      <td>0</td>\n",
       "      <td>0</td>\n",
       "      <td>3</td>\n",
       "      <td>0</td>\n",
       "      <td>...</td>\n",
       "      <td>0</td>\n",
       "      <td>0</td>\n",
       "      <td>0</td>\n",
       "      <td>0</td>\n",
       "      <td>0</td>\n",
       "      <td>0</td>\n",
       "      <td>0</td>\n",
       "      <td>0</td>\n",
       "      <td>0</td>\n",
       "      <td>0</td>\n",
       "    </tr>\n",
       "    <tr>\n",
       "      <th>1</th>\n",
       "      <td>1</td>\n",
       "      <td>7</td>\n",
       "      <td>1</td>\n",
       "      <td>2</td>\n",
       "      <td>0</td>\n",
       "      <td>1</td>\n",
       "      <td>0</td>\n",
       "      <td>0</td>\n",
       "      <td>1</td>\n",
       "      <td>0</td>\n",
       "      <td>...</td>\n",
       "      <td>0</td>\n",
       "      <td>0</td>\n",
       "      <td>0</td>\n",
       "      <td>0</td>\n",
       "      <td>0</td>\n",
       "      <td>0</td>\n",
       "      <td>0</td>\n",
       "      <td>0</td>\n",
       "      <td>0</td>\n",
       "      <td>0</td>\n",
       "    </tr>\n",
       "    <tr>\n",
       "      <th>2</th>\n",
       "      <td>1</td>\n",
       "      <td>6</td>\n",
       "      <td>1</td>\n",
       "      <td>1</td>\n",
       "      <td>0</td>\n",
       "      <td>1</td>\n",
       "      <td>0</td>\n",
       "      <td>0</td>\n",
       "      <td>1</td>\n",
       "      <td>0</td>\n",
       "      <td>...</td>\n",
       "      <td>0</td>\n",
       "      <td>0</td>\n",
       "      <td>0</td>\n",
       "      <td>0</td>\n",
       "      <td>0</td>\n",
       "      <td>0</td>\n",
       "      <td>0</td>\n",
       "      <td>0</td>\n",
       "      <td>0</td>\n",
       "      <td>0</td>\n",
       "    </tr>\n",
       "    <tr>\n",
       "      <th>3</th>\n",
       "      <td>1</td>\n",
       "      <td>6</td>\n",
       "      <td>0</td>\n",
       "      <td>0</td>\n",
       "      <td>2</td>\n",
       "      <td>4</td>\n",
       "      <td>0</td>\n",
       "      <td>3</td>\n",
       "      <td>14</td>\n",
       "      <td>0</td>\n",
       "      <td>...</td>\n",
       "      <td>0</td>\n",
       "      <td>0</td>\n",
       "      <td>0</td>\n",
       "      <td>0</td>\n",
       "      <td>0</td>\n",
       "      <td>0</td>\n",
       "      <td>0</td>\n",
       "      <td>0</td>\n",
       "      <td>0</td>\n",
       "      <td>0</td>\n",
       "    </tr>\n",
       "    <tr>\n",
       "      <th>4</th>\n",
       "      <td>1</td>\n",
       "      <td>5</td>\n",
       "      <td>1</td>\n",
       "      <td>2</td>\n",
       "      <td>0</td>\n",
       "      <td>1</td>\n",
       "      <td>0</td>\n",
       "      <td>0</td>\n",
       "      <td>1</td>\n",
       "      <td>0</td>\n",
       "      <td>...</td>\n",
       "      <td>0</td>\n",
       "      <td>0</td>\n",
       "      <td>0</td>\n",
       "      <td>0</td>\n",
       "      <td>0</td>\n",
       "      <td>0</td>\n",
       "      <td>0</td>\n",
       "      <td>0</td>\n",
       "      <td>0</td>\n",
       "      <td>0</td>\n",
       "    </tr>\n",
       "  </tbody>\n",
       "</table>\n",
       "<p>5 rows × 2501 columns</p>\n",
       "</div>"
      ],
      "text/plain": [
       "        CATEGORY  0  1  2  3  4  5  6   7  8  ...  2490  2491  2492  2493  \\\n",
       "DOC_ID                                        ...                           \n",
       "0              1  0  0  1  2  1  0  0   3  0  ...     0     0     0     0   \n",
       "1              1  7  1  2  0  1  0  0   1  0  ...     0     0     0     0   \n",
       "2              1  6  1  1  0  1  0  0   1  0  ...     0     0     0     0   \n",
       "3              1  6  0  0  2  4  0  3  14  0  ...     0     0     0     0   \n",
       "4              1  5  1  2  0  1  0  0   1  0  ...     0     0     0     0   \n",
       "\n",
       "        2494  2495  2496  2497  2498  2499  \n",
       "DOC_ID                                      \n",
       "0          0     0     0     0     0     0  \n",
       "1          0     0     0     0     0     0  \n",
       "2          0     0     0     0     0     0  \n",
       "3          0     0     0     0     0     0  \n",
       "4          0     0     0     0     0     0  \n",
       "\n",
       "[5 rows x 2501 columns]"
      ]
     },
     "execution_count": 15,
     "metadata": {},
     "output_type": "execute_result"
    }
   ],
   "source": [
    "full_train_data.head()"
   ]
  },
  {
   "cell_type": "markdown",
   "id": "6c3ec1ce",
   "metadata": {},
   "source": [
    " # Counting the tokens to train the Naive Bayes Model\n"
   ]
  },
  {
   "cell_type": "code",
   "execution_count": 16,
   "id": "739c251e",
   "metadata": {},
   "outputs": [],
   "source": [
    "#calculating token Probabilities\n",
    "# P(Spam | Viagra) =   ( P(Viagra | Spam) * P(Spam) ) / P(Viagra)"
   ]
  },
  {
   "cell_type": "markdown",
   "id": "a4ff7d25",
   "metadata": {},
   "source": [
    "### Calculating the probability of spam - the percent of spam messages in the training dataset & storing it to var prob_spam"
   ]
  },
  {
   "cell_type": "code",
   "execution_count": 17,
   "id": "54618909",
   "metadata": {},
   "outputs": [
    {
     "data": {
      "text/plain": [
       "4012"
      ]
     },
     "execution_count": 17,
     "metadata": {},
     "output_type": "execute_result"
    }
   ],
   "source": [
    "full_train_data.CATEGORY.size"
   ]
  },
  {
   "cell_type": "code",
   "execution_count": 18,
   "id": "3a08a61f",
   "metadata": {},
   "outputs": [
    {
     "data": {
      "text/plain": [
       "1246"
      ]
     },
     "execution_count": 18,
     "metadata": {},
     "output_type": "execute_result"
    }
   ],
   "source": [
    "full_train_data.CATEGORY.sum()"
   ]
  },
  {
   "cell_type": "code",
   "execution_count": 19,
   "id": "1112f697",
   "metadata": {},
   "outputs": [
    {
     "data": {
      "text/plain": [
       "DOC_ID\n",
       "5792    0\n",
       "5795    0\n",
       "5796    0\n",
       "5797    0\n",
       "5798    0\n",
       "Name: CATEGORY, dtype: int64"
      ]
     },
     "execution_count": 19,
     "metadata": {},
     "output_type": "execute_result"
    }
   ],
   "source": [
    "full_train_data.CATEGORY.tail()"
   ]
  },
  {
   "cell_type": "code",
   "execution_count": 20,
   "id": "23f96f9e",
   "metadata": {},
   "outputs": [],
   "source": [
    "prob_spam = full_train_data.CATEGORY.sum()/full_train_data.CATEGORY.size"
   ]
  },
  {
   "cell_type": "code",
   "execution_count": 21,
   "id": "5b63242b",
   "metadata": {},
   "outputs": [
    {
     "name": "stdout",
     "output_type": "stream",
     "text": [
      "probability of spam is 0.31056829511465606\n"
     ]
    }
   ],
   "source": [
    "print('probability of spam is', prob_spam)"
   ]
  },
  {
   "cell_type": "markdown",
   "id": "f0e2612e",
   "metadata": {},
   "source": [
    "### Total Number of Words/Tokens"
   ]
  },
  {
   "cell_type": "code",
   "execution_count": 22,
   "id": "8a5fe6ec",
   "metadata": {},
   "outputs": [],
   "source": [
    "full_train_features = full_train_data.loc[:,full_train_data.columns !='CATEGORY']"
   ]
  },
  {
   "cell_type": "code",
   "execution_count": 23,
   "id": "099a6e8a",
   "metadata": {},
   "outputs": [
    {
     "data": {
      "text/html": [
       "<div>\n",
       "<style scoped>\n",
       "    .dataframe tbody tr th:only-of-type {\n",
       "        vertical-align: middle;\n",
       "    }\n",
       "\n",
       "    .dataframe tbody tr th {\n",
       "        vertical-align: top;\n",
       "    }\n",
       "\n",
       "    .dataframe thead th {\n",
       "        text-align: right;\n",
       "    }\n",
       "</style>\n",
       "<table border=\"1\" class=\"dataframe\">\n",
       "  <thead>\n",
       "    <tr style=\"text-align: right;\">\n",
       "      <th></th>\n",
       "      <th>0</th>\n",
       "      <th>1</th>\n",
       "      <th>2</th>\n",
       "      <th>3</th>\n",
       "      <th>4</th>\n",
       "      <th>5</th>\n",
       "      <th>6</th>\n",
       "      <th>7</th>\n",
       "      <th>8</th>\n",
       "      <th>9</th>\n",
       "      <th>...</th>\n",
       "      <th>2490</th>\n",
       "      <th>2491</th>\n",
       "      <th>2492</th>\n",
       "      <th>2493</th>\n",
       "      <th>2494</th>\n",
       "      <th>2495</th>\n",
       "      <th>2496</th>\n",
       "      <th>2497</th>\n",
       "      <th>2498</th>\n",
       "      <th>2499</th>\n",
       "    </tr>\n",
       "    <tr>\n",
       "      <th>DOC_ID</th>\n",
       "      <th></th>\n",
       "      <th></th>\n",
       "      <th></th>\n",
       "      <th></th>\n",
       "      <th></th>\n",
       "      <th></th>\n",
       "      <th></th>\n",
       "      <th></th>\n",
       "      <th></th>\n",
       "      <th></th>\n",
       "      <th></th>\n",
       "      <th></th>\n",
       "      <th></th>\n",
       "      <th></th>\n",
       "      <th></th>\n",
       "      <th></th>\n",
       "      <th></th>\n",
       "      <th></th>\n",
       "      <th></th>\n",
       "      <th></th>\n",
       "      <th></th>\n",
       "    </tr>\n",
       "  </thead>\n",
       "  <tbody>\n",
       "    <tr>\n",
       "      <th>0</th>\n",
       "      <td>0</td>\n",
       "      <td>0</td>\n",
       "      <td>1</td>\n",
       "      <td>2</td>\n",
       "      <td>1</td>\n",
       "      <td>0</td>\n",
       "      <td>0</td>\n",
       "      <td>3</td>\n",
       "      <td>0</td>\n",
       "      <td>0</td>\n",
       "      <td>...</td>\n",
       "      <td>0</td>\n",
       "      <td>0</td>\n",
       "      <td>0</td>\n",
       "      <td>0</td>\n",
       "      <td>0</td>\n",
       "      <td>0</td>\n",
       "      <td>0</td>\n",
       "      <td>0</td>\n",
       "      <td>0</td>\n",
       "      <td>0</td>\n",
       "    </tr>\n",
       "    <tr>\n",
       "      <th>1</th>\n",
       "      <td>7</td>\n",
       "      <td>1</td>\n",
       "      <td>2</td>\n",
       "      <td>0</td>\n",
       "      <td>1</td>\n",
       "      <td>0</td>\n",
       "      <td>0</td>\n",
       "      <td>1</td>\n",
       "      <td>0</td>\n",
       "      <td>0</td>\n",
       "      <td>...</td>\n",
       "      <td>0</td>\n",
       "      <td>0</td>\n",
       "      <td>0</td>\n",
       "      <td>0</td>\n",
       "      <td>0</td>\n",
       "      <td>0</td>\n",
       "      <td>0</td>\n",
       "      <td>0</td>\n",
       "      <td>0</td>\n",
       "      <td>0</td>\n",
       "    </tr>\n",
       "    <tr>\n",
       "      <th>2</th>\n",
       "      <td>6</td>\n",
       "      <td>1</td>\n",
       "      <td>1</td>\n",
       "      <td>0</td>\n",
       "      <td>1</td>\n",
       "      <td>0</td>\n",
       "      <td>0</td>\n",
       "      <td>1</td>\n",
       "      <td>0</td>\n",
       "      <td>0</td>\n",
       "      <td>...</td>\n",
       "      <td>0</td>\n",
       "      <td>0</td>\n",
       "      <td>0</td>\n",
       "      <td>0</td>\n",
       "      <td>0</td>\n",
       "      <td>0</td>\n",
       "      <td>0</td>\n",
       "      <td>0</td>\n",
       "      <td>0</td>\n",
       "      <td>0</td>\n",
       "    </tr>\n",
       "    <tr>\n",
       "      <th>3</th>\n",
       "      <td>6</td>\n",
       "      <td>0</td>\n",
       "      <td>0</td>\n",
       "      <td>2</td>\n",
       "      <td>4</td>\n",
       "      <td>0</td>\n",
       "      <td>3</td>\n",
       "      <td>14</td>\n",
       "      <td>0</td>\n",
       "      <td>0</td>\n",
       "      <td>...</td>\n",
       "      <td>0</td>\n",
       "      <td>0</td>\n",
       "      <td>0</td>\n",
       "      <td>0</td>\n",
       "      <td>0</td>\n",
       "      <td>0</td>\n",
       "      <td>0</td>\n",
       "      <td>0</td>\n",
       "      <td>0</td>\n",
       "      <td>0</td>\n",
       "    </tr>\n",
       "    <tr>\n",
       "      <th>4</th>\n",
       "      <td>5</td>\n",
       "      <td>1</td>\n",
       "      <td>2</td>\n",
       "      <td>0</td>\n",
       "      <td>1</td>\n",
       "      <td>0</td>\n",
       "      <td>0</td>\n",
       "      <td>1</td>\n",
       "      <td>0</td>\n",
       "      <td>0</td>\n",
       "      <td>...</td>\n",
       "      <td>0</td>\n",
       "      <td>0</td>\n",
       "      <td>0</td>\n",
       "      <td>0</td>\n",
       "      <td>0</td>\n",
       "      <td>0</td>\n",
       "      <td>0</td>\n",
       "      <td>0</td>\n",
       "      <td>0</td>\n",
       "      <td>0</td>\n",
       "    </tr>\n",
       "  </tbody>\n",
       "</table>\n",
       "<p>5 rows × 2500 columns</p>\n",
       "</div>"
      ],
      "text/plain": [
       "        0     1     2     3     4     5     6     7     8     9     ...  2490  \\\n",
       "DOC_ID                                                              ...         \n",
       "0          0     0     1     2     1     0     0     3     0     0  ...     0   \n",
       "1          7     1     2     0     1     0     0     1     0     0  ...     0   \n",
       "2          6     1     1     0     1     0     0     1     0     0  ...     0   \n",
       "3          6     0     0     2     4     0     3    14     0     0  ...     0   \n",
       "4          5     1     2     0     1     0     0     1     0     0  ...     0   \n",
       "\n",
       "        2491  2492  2493  2494  2495  2496  2497  2498  2499  \n",
       "DOC_ID                                                        \n",
       "0          0     0     0     0     0     0     0     0     0  \n",
       "1          0     0     0     0     0     0     0     0     0  \n",
       "2          0     0     0     0     0     0     0     0     0  \n",
       "3          0     0     0     0     0     0     0     0     0  \n",
       "4          0     0     0     0     0     0     0     0     0  \n",
       "\n",
       "[5 rows x 2500 columns]"
      ]
     },
     "execution_count": 23,
     "metadata": {},
     "output_type": "execute_result"
    }
   ],
   "source": [
    "full_train_features.head()"
   ]
  },
  {
   "cell_type": "code",
   "execution_count": 24,
   "id": "81b989ac",
   "metadata": {},
   "outputs": [
    {
     "data": {
      "text/plain": [
       "(4012,)"
      ]
     },
     "execution_count": 24,
     "metadata": {},
     "output_type": "execute_result"
    }
   ],
   "source": [
    "email_lengths = full_train_features.sum(axis=1)\n",
    "email_lengths.shape"
   ]
  },
  {
   "cell_type": "code",
   "execution_count": 25,
   "id": "39a18c45",
   "metadata": {},
   "outputs": [
    {
     "data": {
      "text/plain": [
       "DOC_ID\n",
       "0     87\n",
       "1     53\n",
       "2     40\n",
       "3    183\n",
       "4     43\n",
       "dtype: int64"
      ]
     },
     "execution_count": 25,
     "metadata": {},
     "output_type": "execute_result"
    }
   ],
   "source": [
    "email_lengths[0:5]"
   ]
  },
  {
   "cell_type": "code",
   "execution_count": 26,
   "id": "c5dcc1e5",
   "metadata": {},
   "outputs": [
    {
     "data": {
      "text/plain": [
       "447628"
      ]
     },
     "execution_count": 26,
     "metadata": {},
     "output_type": "execute_result"
    }
   ],
   "source": [
    "total_wc = email_lengths.sum()\n",
    "total_wc"
   ]
  },
  {
   "cell_type": "markdown",
   "id": "06e32afb",
   "metadata": {},
   "source": [
    "### Number of token in Spam & Ham Emails"
   ]
  },
  {
   "cell_type": "code",
   "execution_count": 27,
   "id": "3dc50fdf",
   "metadata": {},
   "outputs": [
    {
     "data": {
      "text/plain": [
       "(1246,)"
      ]
     },
     "execution_count": 27,
     "metadata": {},
     "output_type": "execute_result"
    }
   ],
   "source": [
    "#Creating a subset of the email_lengths series that only contains the spam messages.\n",
    "spam_lengths = email_lengths[full_train_data.CATEGORY==1]\n",
    "spam_lengths.shape"
   ]
  },
  {
   "cell_type": "code",
   "execution_count": 28,
   "id": "25b815bf",
   "metadata": {},
   "outputs": [
    {
     "data": {
      "text/plain": [
       "(2766,)"
      ]
     },
     "execution_count": 28,
     "metadata": {},
     "output_type": "execute_result"
    }
   ],
   "source": [
    "ham_lengths = email_lengths [full_train_data.CATEGORY==0]\n",
    "ham_lengths.shape"
   ]
  },
  {
   "cell_type": "code",
   "execution_count": 29,
   "id": "b40e7eed",
   "metadata": {},
   "outputs": [
    {
     "data": {
      "text/plain": [
       "0"
      ]
     },
     "execution_count": 29,
     "metadata": {},
     "output_type": "execute_result"
    }
   ],
   "source": [
    "email_lengths.shape[0]-spam_lengths.shape[0]-ham_lengths.shape[0]\n",
    "#Verifying"
   ]
  },
  {
   "cell_type": "code",
   "execution_count": 30,
   "id": "582bd9cb",
   "metadata": {},
   "outputs": [
    {
     "data": {
      "text/plain": [
       "254877"
      ]
     },
     "execution_count": 30,
     "metadata": {},
     "output_type": "execute_result"
    }
   ],
   "source": [
    "nonspam_wc = ham_lengths.sum()\n",
    "nonspam_wc"
   ]
  },
  {
   "cell_type": "code",
   "execution_count": 31,
   "id": "4e351ed6",
   "metadata": {},
   "outputs": [
    {
     "data": {
      "text/plain": [
       "192751"
      ]
     },
     "execution_count": 31,
     "metadata": {},
     "output_type": "execute_result"
    }
   ],
   "source": [
    "spam_wc = spam_lengths.sum()\n",
    "spam_wc"
   ]
  },
  {
   "cell_type": "code",
   "execution_count": 32,
   "id": "f8c2eb74",
   "metadata": {},
   "outputs": [
    {
     "data": {
      "text/plain": [
       "0"
      ]
     },
     "execution_count": 32,
     "metadata": {},
     "output_type": "execute_result"
    }
   ],
   "source": [
    "spam_wc + nonspam_wc - total_wc"
   ]
  },
  {
   "cell_type": "code",
   "execution_count": 33,
   "id": "3a0d8e70",
   "metadata": {},
   "outputs": [
    {
     "name": "stdout",
     "output_type": "stream",
     "text": [
      "average number of words in spam emails  154.70\n",
      "average number of words in ham emails  92.15\n"
     ]
    }
   ],
   "source": [
    "print(\"average number of words in spam emails  {:.2f}\".format(spam_wc/spam_lengths.shape[0]))\n",
    "print(\"average number of words in ham emails  {:.2f}\".format(nonspam_wc/ham_lengths.shape[0]))"
   ]
  },
  {
   "cell_type": "markdown",
   "id": "138d335e",
   "metadata": {},
   "source": [
    "### Summing the tokens Occuring in Spam"
   ]
  },
  {
   "cell_type": "code",
   "execution_count": 34,
   "id": "3e8c17d5",
   "metadata": {},
   "outputs": [
    {
     "data": {
      "text/plain": [
       "(4012, 2500)"
      ]
     },
     "execution_count": 34,
     "metadata": {},
     "output_type": "execute_result"
    }
   ],
   "source": [
    "full_train_features.shape"
   ]
  },
  {
   "cell_type": "code",
   "execution_count": 35,
   "id": "ac163fca",
   "metadata": {},
   "outputs": [
    {
     "data": {
      "text/html": [
       "<div>\n",
       "<style scoped>\n",
       "    .dataframe tbody tr th:only-of-type {\n",
       "        vertical-align: middle;\n",
       "    }\n",
       "\n",
       "    .dataframe tbody tr th {\n",
       "        vertical-align: top;\n",
       "    }\n",
       "\n",
       "    .dataframe thead th {\n",
       "        text-align: right;\n",
       "    }\n",
       "</style>\n",
       "<table border=\"1\" class=\"dataframe\">\n",
       "  <thead>\n",
       "    <tr style=\"text-align: right;\">\n",
       "      <th></th>\n",
       "      <th>0</th>\n",
       "      <th>1</th>\n",
       "      <th>2</th>\n",
       "      <th>3</th>\n",
       "      <th>4</th>\n",
       "      <th>5</th>\n",
       "      <th>6</th>\n",
       "      <th>7</th>\n",
       "      <th>8</th>\n",
       "      <th>9</th>\n",
       "      <th>...</th>\n",
       "      <th>2490</th>\n",
       "      <th>2491</th>\n",
       "      <th>2492</th>\n",
       "      <th>2493</th>\n",
       "      <th>2494</th>\n",
       "      <th>2495</th>\n",
       "      <th>2496</th>\n",
       "      <th>2497</th>\n",
       "      <th>2498</th>\n",
       "      <th>2499</th>\n",
       "    </tr>\n",
       "    <tr>\n",
       "      <th>DOC_ID</th>\n",
       "      <th></th>\n",
       "      <th></th>\n",
       "      <th></th>\n",
       "      <th></th>\n",
       "      <th></th>\n",
       "      <th></th>\n",
       "      <th></th>\n",
       "      <th></th>\n",
       "      <th></th>\n",
       "      <th></th>\n",
       "      <th></th>\n",
       "      <th></th>\n",
       "      <th></th>\n",
       "      <th></th>\n",
       "      <th></th>\n",
       "      <th></th>\n",
       "      <th></th>\n",
       "      <th></th>\n",
       "      <th></th>\n",
       "      <th></th>\n",
       "      <th></th>\n",
       "    </tr>\n",
       "  </thead>\n",
       "  <tbody>\n",
       "    <tr>\n",
       "      <th>0</th>\n",
       "      <td>0</td>\n",
       "      <td>0</td>\n",
       "      <td>1</td>\n",
       "      <td>2</td>\n",
       "      <td>1</td>\n",
       "      <td>0</td>\n",
       "      <td>0</td>\n",
       "      <td>3</td>\n",
       "      <td>0</td>\n",
       "      <td>0</td>\n",
       "      <td>...</td>\n",
       "      <td>0</td>\n",
       "      <td>0</td>\n",
       "      <td>0</td>\n",
       "      <td>0</td>\n",
       "      <td>0</td>\n",
       "      <td>0</td>\n",
       "      <td>0</td>\n",
       "      <td>0</td>\n",
       "      <td>0</td>\n",
       "      <td>0</td>\n",
       "    </tr>\n",
       "    <tr>\n",
       "      <th>1</th>\n",
       "      <td>7</td>\n",
       "      <td>1</td>\n",
       "      <td>2</td>\n",
       "      <td>0</td>\n",
       "      <td>1</td>\n",
       "      <td>0</td>\n",
       "      <td>0</td>\n",
       "      <td>1</td>\n",
       "      <td>0</td>\n",
       "      <td>0</td>\n",
       "      <td>...</td>\n",
       "      <td>0</td>\n",
       "      <td>0</td>\n",
       "      <td>0</td>\n",
       "      <td>0</td>\n",
       "      <td>0</td>\n",
       "      <td>0</td>\n",
       "      <td>0</td>\n",
       "      <td>0</td>\n",
       "      <td>0</td>\n",
       "      <td>0</td>\n",
       "    </tr>\n",
       "    <tr>\n",
       "      <th>2</th>\n",
       "      <td>6</td>\n",
       "      <td>1</td>\n",
       "      <td>1</td>\n",
       "      <td>0</td>\n",
       "      <td>1</td>\n",
       "      <td>0</td>\n",
       "      <td>0</td>\n",
       "      <td>1</td>\n",
       "      <td>0</td>\n",
       "      <td>0</td>\n",
       "      <td>...</td>\n",
       "      <td>0</td>\n",
       "      <td>0</td>\n",
       "      <td>0</td>\n",
       "      <td>0</td>\n",
       "      <td>0</td>\n",
       "      <td>0</td>\n",
       "      <td>0</td>\n",
       "      <td>0</td>\n",
       "      <td>0</td>\n",
       "      <td>0</td>\n",
       "    </tr>\n",
       "    <tr>\n",
       "      <th>3</th>\n",
       "      <td>6</td>\n",
       "      <td>0</td>\n",
       "      <td>0</td>\n",
       "      <td>2</td>\n",
       "      <td>4</td>\n",
       "      <td>0</td>\n",
       "      <td>3</td>\n",
       "      <td>14</td>\n",
       "      <td>0</td>\n",
       "      <td>0</td>\n",
       "      <td>...</td>\n",
       "      <td>0</td>\n",
       "      <td>0</td>\n",
       "      <td>0</td>\n",
       "      <td>0</td>\n",
       "      <td>0</td>\n",
       "      <td>0</td>\n",
       "      <td>0</td>\n",
       "      <td>0</td>\n",
       "      <td>0</td>\n",
       "      <td>0</td>\n",
       "    </tr>\n",
       "    <tr>\n",
       "      <th>4</th>\n",
       "      <td>5</td>\n",
       "      <td>1</td>\n",
       "      <td>2</td>\n",
       "      <td>0</td>\n",
       "      <td>1</td>\n",
       "      <td>0</td>\n",
       "      <td>0</td>\n",
       "      <td>1</td>\n",
       "      <td>0</td>\n",
       "      <td>0</td>\n",
       "      <td>...</td>\n",
       "      <td>0</td>\n",
       "      <td>0</td>\n",
       "      <td>0</td>\n",
       "      <td>0</td>\n",
       "      <td>0</td>\n",
       "      <td>0</td>\n",
       "      <td>0</td>\n",
       "      <td>0</td>\n",
       "      <td>0</td>\n",
       "      <td>0</td>\n",
       "    </tr>\n",
       "  </tbody>\n",
       "</table>\n",
       "<p>5 rows × 2500 columns</p>\n",
       "</div>"
      ],
      "text/plain": [
       "        0     1     2     3     4     5     6     7     8     9     ...  2490  \\\n",
       "DOC_ID                                                              ...         \n",
       "0          0     0     1     2     1     0     0     3     0     0  ...     0   \n",
       "1          7     1     2     0     1     0     0     1     0     0  ...     0   \n",
       "2          6     1     1     0     1     0     0     1     0     0  ...     0   \n",
       "3          6     0     0     2     4     0     3    14     0     0  ...     0   \n",
       "4          5     1     2     0     1     0     0     1     0     0  ...     0   \n",
       "\n",
       "        2491  2492  2493  2494  2495  2496  2497  2498  2499  \n",
       "DOC_ID                                                        \n",
       "0          0     0     0     0     0     0     0     0     0  \n",
       "1          0     0     0     0     0     0     0     0     0  \n",
       "2          0     0     0     0     0     0     0     0     0  \n",
       "3          0     0     0     0     0     0     0     0     0  \n",
       "4          0     0     0     0     0     0     0     0     0  \n",
       "\n",
       "[5 rows x 2500 columns]"
      ]
     },
     "execution_count": 35,
     "metadata": {},
     "output_type": "execute_result"
    }
   ],
   "source": [
    "train_spam_tokens = full_train_features.loc[full_train_data.CATEGORY == 1]\n",
    "train_spam_tokens.head()"
   ]
  },
  {
   "cell_type": "code",
   "execution_count": 36,
   "id": "72586742",
   "metadata": {},
   "outputs": [
    {
     "data": {
      "text/plain": [
       "(1246, 2500)"
      ]
     },
     "execution_count": 36,
     "metadata": {},
     "output_type": "execute_result"
    }
   ],
   "source": [
    "train_spam_tokens.shape"
   ]
  },
  {
   "cell_type": "code",
   "execution_count": 37,
   "id": "63c0f63b",
   "metadata": {},
   "outputs": [
    {
     "data": {
      "text/plain": [
       "(2500,)"
      ]
     },
     "execution_count": 37,
     "metadata": {},
     "output_type": "execute_result"
    }
   ],
   "source": [
    "summed_spam_tokens = train_spam_tokens.sum(axis=0) + 1\n",
    "summed_spam_tokens.shape"
   ]
  },
  {
   "cell_type": "code",
   "execution_count": 38,
   "id": "df459acf",
   "metadata": {},
   "outputs": [
    {
     "data": {
      "text/plain": [
       "2495     4\n",
       "2496     2\n",
       "2497    17\n",
       "2498    18\n",
       "2499     2\n",
       "dtype: int64"
      ]
     },
     "execution_count": 38,
     "metadata": {},
     "output_type": "execute_result"
    }
   ],
   "source": [
    "summed_spam_tokens.tail()"
   ]
  },
  {
   "cell_type": "code",
   "execution_count": 39,
   "id": "30c69791",
   "metadata": {},
   "outputs": [],
   "source": [
    "#Repeating same process for ham messages..  and storing them in summed_ham_tokens"
   ]
  },
  {
   "cell_type": "markdown",
   "id": "b8813653",
   "metadata": {},
   "source": [
    "### Summing the tokens Occuring in ham"
   ]
  },
  {
   "cell_type": "code",
   "execution_count": 40,
   "id": "8d7bf3d9",
   "metadata": {},
   "outputs": [],
   "source": [
    "train_ham_tokens = full_train_features.loc[full_train_data.CATEGORY==0]\n",
    "summed_ham_tokens = train_ham_tokens.sum(axis=0)+1"
   ]
  },
  {
   "cell_type": "code",
   "execution_count": 41,
   "id": "26b48194",
   "metadata": {},
   "outputs": [
    {
     "data": {
      "text/plain": [
       "2495    33\n",
       "2496    34\n",
       "2497    17\n",
       "2498    12\n",
       "2499    31\n",
       "dtype: int64"
      ]
     },
     "execution_count": 41,
     "metadata": {},
     "output_type": "execute_result"
    }
   ],
   "source": [
    "summed_ham_tokens.tail()"
   ]
  },
  {
   "cell_type": "code",
   "execution_count": 42,
   "id": "2fc2ddf0",
   "metadata": {},
   "outputs": [
    {
     "data": {
      "text/plain": [
       "31"
      ]
     },
     "execution_count": 42,
     "metadata": {},
     "output_type": "execute_result"
    }
   ],
   "source": [
    "train_ham_tokens[2499].sum()+1"
   ]
  },
  {
   "cell_type": "markdown",
   "id": "899a9d78",
   "metadata": {},
   "source": [
    "# Calculating the token probabilities and Saving the trained model"
   ]
  },
  {
   "cell_type": "code",
   "execution_count": 43,
   "id": "753292b4",
   "metadata": {},
   "outputs": [
    {
     "data": {
      "text/plain": [
       "0    0.011334\n",
       "1    0.005173\n",
       "2    0.006996\n",
       "3    0.010494\n",
       "4    0.007068\n",
       "dtype: float64"
      ]
     },
     "execution_count": 43,
     "metadata": {},
     "output_type": "execute_result"
    }
   ],
   "source": [
    "# P(Token|Spam) - probability that token occurs given the email is spam\n",
    "prob_tokens_spam = summed_spam_tokens/(spam_wc + vocab_size)\n",
    "#we add vocab_size because of the smothing... as we added +1 before..\n",
    "prob_tokens_spam[:5]"
   ]
  },
  {
   "cell_type": "code",
   "execution_count": 44,
   "id": "e1c24d69",
   "metadata": {},
   "outputs": [
    {
     "data": {
      "text/plain": [
       "1.0"
      ]
     },
     "execution_count": 44,
     "metadata": {},
     "output_type": "execute_result"
    }
   ],
   "source": [
    "prob_tokens_spam.sum()"
   ]
  },
  {
   "cell_type": "code",
   "execution_count": 45,
   "id": "8c681c6a",
   "metadata": {},
   "outputs": [
    {
     "data": {
      "text/plain": [
       "0    0.021008\n",
       "1    0.010386\n",
       "2    0.008031\n",
       "3    0.003532\n",
       "4    0.006457\n",
       "dtype: float64"
      ]
     },
     "execution_count": 45,
     "metadata": {},
     "output_type": "execute_result"
    }
   ],
   "source": [
    "#P(Token|Ham) - probability that a tokeb occurs given the email is nonspam\n",
    "prob_tokens_nonspam = summed_ham_tokens/(nonspam_wc + vocab_size)\n",
    "prob_tokens_nonspam[:5]"
   ]
  },
  {
   "cell_type": "code",
   "execution_count": 46,
   "id": "563a0770",
   "metadata": {},
   "outputs": [
    {
     "data": {
      "text/plain": [
       "1.0"
      ]
     },
     "execution_count": 46,
     "metadata": {},
     "output_type": "execute_result"
    }
   ],
   "source": [
    "prob_tokens_nonspam.sum()"
   ]
  },
  {
   "cell_type": "code",
   "execution_count": 47,
   "id": "457a646e",
   "metadata": {},
   "outputs": [
    {
     "data": {
      "text/plain": [
       "1.0"
      ]
     },
     "execution_count": 47,
     "metadata": {},
     "output_type": "execute_result"
    }
   ],
   "source": [
    "# P(Token) - probability that token occurs\n",
    "prob_tokens_all =full_train_features.sum(axis=0)/total_wc\n",
    "prob_tokens_all.sum()"
   ]
  },
  {
   "cell_type": "code",
   "execution_count": 48,
   "id": "f9ba4159",
   "metadata": {},
   "outputs": [],
   "source": [
    "#Saving the Trained Model\n",
    "np.savetxt(token_spam_prob_file,prob_tokens_spam)\n",
    "np.savetxt(token_ham_prob_file,prob_tokens_nonspam)\n",
    "np.savetxt(token_all_prob_file,prob_tokens_all)"
   ]
  },
  {
   "cell_type": "code",
   "execution_count": 49,
   "id": "5febbb1f",
   "metadata": {},
   "outputs": [],
   "source": [
    "#we use make_full_matrix to prepare test data,\n",
    "# by calling it and running test data through it saving it as a file for a later use."
   ]
  },
  {
   "cell_type": "markdown",
   "id": "8a030676",
   "metadata": {},
   "source": [
    "# Preparing Test Data"
   ]
  },
  {
   "cell_type": "code",
   "execution_count": 50,
   "id": "5acce633",
   "metadata": {},
   "outputs": [
    {
     "data": {
      "text/plain": [
       "(112601, 4)"
      ]
     },
     "execution_count": 50,
     "metadata": {},
     "output_type": "execute_result"
    }
   ],
   "source": [
    "sparse_test_data.shape"
   ]
  },
  {
   "cell_type": "code",
   "execution_count": 51,
   "id": "1fb007e6",
   "metadata": {},
   "outputs": [
    {
     "name": "stdout",
     "output_type": "stream",
     "text": [
      "CPU times: total: 5min 17s\n",
      "Wall time: 5min 22s\n"
     ]
    }
   ],
   "source": [
    "%%time\n",
    "full_test_data = make_full_matrix(sparse_test_data,no_words=vocab_size)"
   ]
  },
  {
   "cell_type": "code",
   "execution_count": 105,
   "id": "5b5c97fd",
   "metadata": {},
   "outputs": [],
   "source": [
    "x_test = full_test_data.loc[:,full_test_data.columns !='CATEGORY']\n",
    "y_test = full_test_data.CATEGORY"
   ]
  },
  {
   "cell_type": "code",
   "execution_count": 107,
   "id": "bbf024dc",
   "metadata": {},
   "outputs": [],
   "source": [
    "# x_test 2499 + DOC_ID\n",
    "# len(x_test.columns) 2500\n",
    "# x_test_split = np.array_split(x_test,5)\n",
    "#Checking if the split is good\n",
    "# pd.DataFrame(x_test_split[0])[100:102]\n",
    "# columns=(np.append(['DOC_ID'],list(range(len(x_test.columns)-1))))"
   ]
  },
  {
   "cell_type": "code",
   "execution_count": 129,
   "id": "1ec0bd9e",
   "metadata": {},
   "outputs": [],
   "source": [
    "def splitter(df,size=0.5):\n",
    "    total_rows = len(df)\n",
    "    test_rows = int(total_rows * size)\n",
    "    train_rows = total_rows - test_rows\n",
    "    split_indices = [train_rows, total_rows]\n",
    "    # Split the DataFrame based on the split indices\n",
    "    return(df.iloc[:split_indices[0]], df.iloc[split_indices[0]:])"
   ]
  },
  {
   "cell_type": "code",
   "execution_count": 130,
   "id": "6ba38529",
   "metadata": {},
   "outputs": [],
   "source": [
    "splitted_x1,splitted_x2 = splitter(x_test)\n",
    "half_01,half_02 = splitter(splitted_x1)\n",
    "half_03,half_04 = splitter(splitted_x2)\n",
    "x_test_01,x_test_02 = splitter(half_01)\n",
    "x_test_03,x_test_04 = splitter(half_02)\n",
    "x_test_05,x_test_06 = splitter(half_03)\n",
    "x_test_07,x_test_08 = splitter(half_04)"
   ]
  },
  {
   "cell_type": "code",
   "execution_count": 131,
   "id": "986b6f26",
   "metadata": {},
   "outputs": [
    {
     "name": "stdout",
     "output_type": "stream",
     "text": [
      "(718, 2500)\n",
      "(717, 2500)\n",
      "(717, 2500)\n",
      "(717, 2500)\n",
      "(717, 2500)\n",
      "(717, 2500)\n",
      "(717, 2500)\n",
      "(717, 2500)\n"
     ]
    }
   ],
   "source": [
    "print(x_test_01.shape)\n",
    "print(x_test_02.shape)\n",
    "print(x_test_03.shape)\n",
    "print(x_test_04.shape)\n",
    "print(x_test_05.shape)\n",
    "print(x_test_06.shape)\n",
    "print(x_test_07.shape)\n",
    "print(x_test_08.shape)"
   ]
  },
  {
   "cell_type": "code",
   "execution_count": 132,
   "id": "dead1279",
   "metadata": {},
   "outputs": [],
   "source": [
    "#Saving y_test and 5 splits of x_test\n",
    "np.savetxt(test_target_file,y_test)\n",
    "np.savetxt(test_feature_matrix_01,x_test_01)\n",
    "np.savetxt(test_feature_matrix_02,x_test_02)\n",
    "np.savetxt(test_feature_matrix_03,x_test_03)\n",
    "np.savetxt(test_feature_matrix_04,x_test_04)\n",
    "np.savetxt(test_feature_matrix_05,x_test_05)\n",
    "np.savetxt(test_feature_matrix_06,x_test_06)\n",
    "np.savetxt(test_feature_matrix_07,x_test_07)\n",
    "np.savetxt(test_feature_matrix_08,x_test_08)"
   ]
  },
  {
   "cell_type": "code",
   "execution_count": null,
   "id": "33d29a3e",
   "metadata": {},
   "outputs": [],
   "source": []
  }
 ],
 "metadata": {
  "kernelspec": {
   "display_name": "Python 3 (ipykernel)",
   "language": "python",
   "name": "python3"
  },
  "language_info": {
   "codemirror_mode": {
    "name": "ipython",
    "version": 3
   },
   "file_extension": ".py",
   "mimetype": "text/x-python",
   "name": "python",
   "nbconvert_exporter": "python",
   "pygments_lexer": "ipython3",
   "version": "3.10.7"
  }
 },
 "nbformat": 4,
 "nbformat_minor": 5
}
