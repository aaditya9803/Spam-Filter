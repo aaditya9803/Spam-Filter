{
 "cells": [
  {
   "cell_type": "code",
   "execution_count": 148,
   "id": "c0c48d94",
   "metadata": {},
   "outputs": [],
   "source": [
    "from os import walk\n",
    "from os.path import join\n",
    "import pandas as pd\n",
    "import matplotlib.pyplot as plt\n",
    "import nltk\n",
    "from nltk.stem import PorterStemmer\n",
    "from nltk.corpus import stopwords\n",
    "from nltk.tokenize import word_tokenize\n",
    "from bs4 import BeautifulSoup"
   ]
  },
  {
   "cell_type": "code",
   "execution_count": 149,
   "id": "6abd609d",
   "metadata": {},
   "outputs": [],
   "source": [
    "spam_1_path = 'SpamData/01_Processing/spam_assassin_corpus/spam_1'\n",
    "spam_2_path = 'SpamData/01_Processing/spam_assassin_corpus/spam_2'\n",
    "nonspam_1_path = 'SpamData/01_Processing/spam_assassin_corpus/easy_ham_1'\n",
    "nonspam_2_path = 'SpamData/01_Processing/spam_assassin_corpus/easy_ham_2'\n",
    "spam_cat =1 \n",
    "ham_cat =0\n",
    "data_json_file='SpamData/01_Processing/email-text-data.json'"
   ]
  },
  {
   "cell_type": "code",
   "execution_count": 150,
   "id": "32be03f2",
   "metadata": {},
   "outputs": [],
   "source": [
    "#Reading files\n",
    "eg_file = 'SpamData/01_Processing/practice_email.txt'\n",
    "stream=open(eg_file,encoding=\"latin-1\")\n",
    "message=stream.read()\n",
    "stream.close()"
   ]
  },
  {
   "cell_type": "code",
   "execution_count": 151,
   "id": "64998c00",
   "metadata": {},
   "outputs": [
    {
     "name": "stdout",
     "output_type": "stream",
     "text": [
      "\n",
      "\n",
      "Dear Mr Still\n",
      "\n",
      "\n",
      "\n",
      "Good tidings to you and all your staff for the festive season ahead (Christmas).\n",
      "\n",
      "Now to the crux of the matter-in-hand: I am a fully qualified Santa Claus and am wondering whether you might consider me to run my own \"Santa's Grotto\" in your store.\n",
      "\n",
      "But WAIT! You're probably thinking: \"What makes him so special?\"\n",
      "\n",
      "Well, first of all, I have made several changes to the characterisation of Father Christmas. Rather than greeting the children with shouts of \"Ho, ho, ho!\" I prefer to whisper the phrase \"Dependence is not unfathomable in this cruel world we live in\". In addition, my gifts are ALL hand-made, ranging from felt hoops to vanilla-pod holders.\n",
      "\n",
      "You will note also, from the enclosed sketch, that I have radically redesigned Santa's outfit and have renamed my character \"Lord Buckles\". Would you be interested in employing me? I promise NEVER to let you down.\n",
      "\n",
      "I look forward to hearing from you.\n",
      "\n",
      "\n",
      "\n",
      "Best wishes\n",
      "\n",
      "Robin Cooper\n",
      "\n",
      "[Excerpt from the book: The Timewaster Letters by Robin Cooper]\n",
      "\n"
     ]
    }
   ],
   "source": [
    "stream=open(eg_file)\n",
    "is_body=False\n",
    "lines=[]\n",
    "for line in stream:\n",
    "    if is_body:\n",
    "        lines.append(line)\n",
    "    elif line == '\\n':\n",
    "        is_body = True\n",
    "stream.close()\n",
    "email_body = '\\n'.join(lines)\n",
    "print(email_body)"
   ]
  },
  {
   "cell_type": "markdown",
   "id": "729a7193",
   "metadata": {},
   "source": [
    "# Creating Pandas DataFrame of email bodies"
   ]
  },
  {
   "cell_type": "code",
   "execution_count": 152,
   "id": "1f3cfa77",
   "metadata": {},
   "outputs": [],
   "source": [
    "def email_body_generator(path):\n",
    "    \n",
    "    for root, dirnames, filenames in walk(path):\n",
    "        for file_name in filenames:\n",
    "            \n",
    "            filepath = join(root, file_name)\n",
    "            \n",
    "            stream = open(filepath, encoding='latin-1')\n",
    "\n",
    "            is_body = False\n",
    "            lines = []\n",
    "\n",
    "            for line in stream:\n",
    "                if is_body:\n",
    "                    lines.append(line)\n",
    "                elif line == '\\n':\n",
    "                    is_body = True\n",
    "\n",
    "            stream.close()\n",
    "\n",
    "            email_body = '\\n'.join(lines)\n",
    "            \n",
    "            yield file_name, email_body\n"
   ]
  },
  {
   "cell_type": "code",
   "execution_count": 153,
   "id": "c11191bc",
   "metadata": {},
   "outputs": [],
   "source": [
    "def df_from_directory(path,classification):\n",
    "    rows=[]\n",
    "    rows_names=[]\n",
    "    for file_names,email_body in email_body_generator(path):\n",
    "        rows.append({'MESSAGE':email_body, 'CATEGORY':classification})\n",
    "        rows_names.append(file_names)\n",
    "    return pd.DataFrame(rows,index=rows_names)"
   ]
  },
  {
   "cell_type": "code",
   "execution_count": 154,
   "id": "6abf0529",
   "metadata": {},
   "outputs": [
    {
     "name": "stdout",
     "output_type": "stream",
     "text": [
      "(1898, 2)\n"
     ]
    }
   ],
   "source": [
    "#for spam emails\n",
    "spam_emails = df_from_directory(spam_1_path,spam_cat)\n",
    "spam_emails = pd.concat([spam_emails,df_from_directory(spam_2_path,spam_cat)])\n",
    "print(spam_emails.shape)"
   ]
  },
  {
   "cell_type": "code",
   "execution_count": 155,
   "id": "3397c2d2",
   "metadata": {},
   "outputs": [
    {
     "name": "stdout",
     "output_type": "stream",
     "text": [
      "(3901, 2)\n"
     ]
    }
   ],
   "source": [
    "#for non-spam emails\n",
    "ham_emails = df_from_directory(nonspam_1_path,ham_cat)\n",
    "ham_emails = pd.concat([ham_emails, df_from_directory(nonspam_2_path,ham_cat)])\n",
    "print(ham_emails.shape)"
   ]
  },
  {
   "cell_type": "code",
   "execution_count": 156,
   "id": "86ea51b1",
   "metadata": {},
   "outputs": [
    {
     "name": "stdout",
     "output_type": "stream",
     "text": [
      "shape of the whole dataframe (5799, 2)\n"
     ]
    }
   ],
   "source": [
    "#concating both spam and non-emails\n",
    "data = pd.concat([spam_emails,ham_emails])\n",
    "print('shape of the whole dataframe',data.shape)"
   ]
  },
  {
   "cell_type": "markdown",
   "id": "b9fdf282",
   "metadata": {},
   "source": [
    "## Data Cleaning: checking for missing values"
   ]
  },
  {
   "cell_type": "code",
   "execution_count": 157,
   "id": "412652b4",
   "metadata": {},
   "outputs": [],
   "source": [
    "# null_string =\"\"\n",
    "# none_string =None\n",
    "# print(type(null_string))\n",
    "# print(type(none_string))"
   ]
  },
  {
   "cell_type": "code",
   "execution_count": 158,
   "id": "b870db61",
   "metadata": {},
   "outputs": [
    {
     "name": "stdout",
     "output_type": "stream",
     "text": [
      "True\n",
      "3\n",
      "False\n",
      "0\n"
     ]
    }
   ],
   "source": [
    "#checking none values\n",
    "print((data.MESSAGE.str.len()==0).values.any())\n",
    "print((data.MESSAGE.str.len()==0).sum())\n",
    "#checking null values\n",
    "print(data.MESSAGE.isnull().values.any())\n",
    "print(data.MESSAGE.isnull().sum())"
   ]
  },
  {
   "cell_type": "code",
   "execution_count": 159,
   "id": "2374b647",
   "metadata": {},
   "outputs": [
    {
     "name": "stdout",
     "output_type": "stream",
     "text": [
      "(5799, 2)\n",
      "<class 'pandas.core.frame.DataFrame'>\n"
     ]
    }
   ],
   "source": [
    "# data.MESSAGE.str.len()\n",
    "print(data.shape)\n",
    "print(type(data))"
   ]
  },
  {
   "cell_type": "code",
   "execution_count": 160,
   "id": "10cf2b8c",
   "metadata": {},
   "outputs": [
    {
     "name": "stdout",
     "output_type": "stream",
     "text": [
      "Index(['cmds', 'cmds', 'cmds'], dtype='object')\n"
     ]
    }
   ],
   "source": [
    "type(data.MESSAGE.str.len()==0)\n",
    "print(data[data.MESSAGE.str.len()==0].index)"
   ]
  },
  {
   "cell_type": "code",
   "execution_count": 161,
   "id": "7bd9eb23",
   "metadata": {},
   "outputs": [
    {
     "data": {
      "text/html": [
       "<div>\n",
       "<style scoped>\n",
       "    .dataframe tbody tr th:only-of-type {\n",
       "        vertical-align: middle;\n",
       "    }\n",
       "\n",
       "    .dataframe tbody tr th {\n",
       "        vertical-align: top;\n",
       "    }\n",
       "\n",
       "    .dataframe thead th {\n",
       "        text-align: right;\n",
       "    }\n",
       "</style>\n",
       "<table border=\"1\" class=\"dataframe\">\n",
       "  <thead>\n",
       "    <tr style=\"text-align: right;\">\n",
       "      <th></th>\n",
       "      <th>MESSAGE</th>\n",
       "      <th>CATEGORY</th>\n",
       "      <th>FILENAME</th>\n",
       "    </tr>\n",
       "    <tr>\n",
       "      <th>DOC_ID</th>\n",
       "      <th></th>\n",
       "      <th></th>\n",
       "      <th></th>\n",
       "    </tr>\n",
       "  </thead>\n",
       "  <tbody>\n",
       "    <tr>\n",
       "      <th>0</th>\n",
       "      <td>&lt;!DOCTYPE HTML PUBLIC \"-//W3C//DTD HTML 4.0 Tr...</td>\n",
       "      <td>1</td>\n",
       "      <td>00001.7848dde101aa985090474a91ec93fcf0</td>\n",
       "    </tr>\n",
       "    <tr>\n",
       "      <th>1</th>\n",
       "      <td>1) Fight The Risk of Cancer!\\n\\nhttp://www.adc...</td>\n",
       "      <td>1</td>\n",
       "      <td>00002.d94f1b97e48ed3b553b3508d116e6a09</td>\n",
       "    </tr>\n",
       "    <tr>\n",
       "      <th>2</th>\n",
       "      <td>1) Fight The Risk of Cancer!\\n\\nhttp://www.adc...</td>\n",
       "      <td>1</td>\n",
       "      <td>00003.2ee33bc6eacdb11f38d052c44819ba6c</td>\n",
       "    </tr>\n",
       "    <tr>\n",
       "      <th>3</th>\n",
       "      <td>##############################################...</td>\n",
       "      <td>1</td>\n",
       "      <td>00004.eac8de8d759b7e74154f142194282724</td>\n",
       "    </tr>\n",
       "    <tr>\n",
       "      <th>4</th>\n",
       "      <td>I thought you might like these:\\n\\n1) Slim Dow...</td>\n",
       "      <td>1</td>\n",
       "      <td>00005.57696a39d7d84318ce497886896bf90d</td>\n",
       "    </tr>\n",
       "  </tbody>\n",
       "</table>\n",
       "</div>"
      ],
      "text/plain": [
       "                                                  MESSAGE  CATEGORY  \\\n",
       "DOC_ID                                                                \n",
       "0       <!DOCTYPE HTML PUBLIC \"-//W3C//DTD HTML 4.0 Tr...         1   \n",
       "1       1) Fight The Risk of Cancer!\\n\\nhttp://www.adc...         1   \n",
       "2       1) Fight The Risk of Cancer!\\n\\nhttp://www.adc...         1   \n",
       "3       ##############################################...         1   \n",
       "4       I thought you might like these:\\n\\n1) Slim Dow...         1   \n",
       "\n",
       "                                      FILENAME  \n",
       "DOC_ID                                          \n",
       "0       00001.7848dde101aa985090474a91ec93fcf0  \n",
       "1       00002.d94f1b97e48ed3b553b3508d116e6a09  \n",
       "2       00003.2ee33bc6eacdb11f38d052c44819ba6c  \n",
       "3       00004.eac8de8d759b7e74154f142194282724  \n",
       "4       00005.57696a39d7d84318ce497886896bf90d  "
      ]
     },
     "execution_count": 161,
     "metadata": {},
     "output_type": "execute_result"
    }
   ],
   "source": [
    "#Adding Document IDs to track Email in dataset\n",
    "document_ids=range(0,len(data.index))\n",
    "data['DOC_ID']=document_ids\n",
    "data['FILENAME']=data.index\n",
    "data.set_index('DOC_ID',inplace=True)\n",
    "data.head()"
   ]
  },
  {
   "cell_type": "code",
   "execution_count": 162,
   "id": "a553b8e8",
   "metadata": {},
   "outputs": [
    {
     "data": {
      "text/html": [
       "<div>\n",
       "<style scoped>\n",
       "    .dataframe tbody tr th:only-of-type {\n",
       "        vertical-align: middle;\n",
       "    }\n",
       "\n",
       "    .dataframe tbody tr th {\n",
       "        vertical-align: top;\n",
       "    }\n",
       "\n",
       "    .dataframe thead th {\n",
       "        text-align: right;\n",
       "    }\n",
       "</style>\n",
       "<table border=\"1\" class=\"dataframe\">\n",
       "  <thead>\n",
       "    <tr style=\"text-align: right;\">\n",
       "      <th></th>\n",
       "      <th>MESSAGE</th>\n",
       "      <th>CATEGORY</th>\n",
       "      <th>FILENAME</th>\n",
       "    </tr>\n",
       "    <tr>\n",
       "      <th>DOC_ID</th>\n",
       "      <th></th>\n",
       "      <th></th>\n",
       "      <th></th>\n",
       "    </tr>\n",
       "  </thead>\n",
       "  <tbody>\n",
       "    <tr>\n",
       "      <th>5794</th>\n",
       "      <td>http://news.bbc.co.uk/1/hi/england/2515127.stm...</td>\n",
       "      <td>0</td>\n",
       "      <td>01396.61983fbe6ec43f55fd44e30fce24ffa6</td>\n",
       "    </tr>\n",
       "    <tr>\n",
       "      <th>5795</th>\n",
       "      <td>&gt; &gt;-- be careful when using this one.) Also, t...</td>\n",
       "      <td>0</td>\n",
       "      <td>01397.9f9ef4c2a8dc012d80f2ce2d3473d3b7</td>\n",
       "    </tr>\n",
       "    <tr>\n",
       "      <th>5796</th>\n",
       "      <td>&gt;&gt;&gt;&gt;&gt; \"SM\" == Skip Montanaro &lt;skip@pobox.com&gt; ...</td>\n",
       "      <td>0</td>\n",
       "      <td>01398.169b51731fe569f42169ae8f948ec676</td>\n",
       "    </tr>\n",
       "    <tr>\n",
       "      <th>5797</th>\n",
       "      <td>So then, \"Mark Hammond\" &lt;mhammond@skippinet.co...</td>\n",
       "      <td>0</td>\n",
       "      <td>01399.ca6b00b7b341bbde9a9ea3dd6a7bf896</td>\n",
       "    </tr>\n",
       "    <tr>\n",
       "      <th>5798</th>\n",
       "      <td>Hi there,\\n\\n\\n\\nNow this is probably of no us...</td>\n",
       "      <td>0</td>\n",
       "      <td>01400.f897f0931e461e7b2e964d28e927c35e</td>\n",
       "    </tr>\n",
       "  </tbody>\n",
       "</table>\n",
       "</div>"
      ],
      "text/plain": [
       "                                                  MESSAGE  CATEGORY  \\\n",
       "DOC_ID                                                                \n",
       "5794    http://news.bbc.co.uk/1/hi/england/2515127.stm...         0   \n",
       "5795    > >-- be careful when using this one.) Also, t...         0   \n",
       "5796    >>>>> \"SM\" == Skip Montanaro <skip@pobox.com> ...         0   \n",
       "5797    So then, \"Mark Hammond\" <mhammond@skippinet.co...         0   \n",
       "5798    Hi there,\\n\\n\\n\\nNow this is probably of no us...         0   \n",
       "\n",
       "                                      FILENAME  \n",
       "DOC_ID                                          \n",
       "5794    01396.61983fbe6ec43f55fd44e30fce24ffa6  \n",
       "5795    01397.9f9ef4c2a8dc012d80f2ce2d3473d3b7  \n",
       "5796    01398.169b51731fe569f42169ae8f948ec676  \n",
       "5797    01399.ca6b00b7b341bbde9a9ea3dd6a7bf896  \n",
       "5798    01400.f897f0931e461e7b2e964d28e927c35e  "
      ]
     },
     "execution_count": 162,
     "metadata": {},
     "output_type": "execute_result"
    }
   ],
   "source": [
    "data.tail()"
   ]
  },
  {
   "cell_type": "code",
   "execution_count": 163,
   "id": "e455ddde",
   "metadata": {},
   "outputs": [],
   "source": [
    "#Saving Files as json\n",
    "data.to_json(data_json_file)"
   ]
  },
  {
   "cell_type": "markdown",
   "id": "a164534d",
   "metadata": {},
   "source": [
    "# Data Visualization"
   ]
  },
  {
   "cell_type": "code",
   "execution_count": 164,
   "id": "fec25a4b",
   "metadata": {},
   "outputs": [
    {
     "data": {
      "image/png": "[encoded data removed]",
      "text/plain": [
       "<Figure size 640x480 with 1 Axes>"
      ]
     },
     "metadata": {},
     "output_type": "display_data"
    }
   ],
   "source": [
    "#Number of Spam Messages Visualised (Pie Charts)\n",
    "data.CATEGORY.value_counts()\n",
    "amount_of_spam = data.CATEGORY.value_counts()[1]\n",
    "amount_of_ham = data.CATEGORY.value_counts()[0]\n",
    "category_names = ['Spam','LegitMail']\n",
    "sizes = [amount_of_spam, amount_of_ham]\n",
    "plt.pie(x=sizes,labels=category_names,textprops={'fontsize':16})\n",
    "plt.show()"
   ]
  },
  {
   "cell_type": "code",
   "execution_count": 165,
   "id": "5fa009a5",
   "metadata": {},
   "outputs": [
    {
     "data": {
      "image/png": "[encoded data removed]",
      "text/plain": [
       "<Figure size 454x454 with 1 Axes>"
      ]
     },
     "metadata": {},
     "output_type": "display_data"
    }
   ],
   "source": [
    "#Number of Spam Messages Visualised (Pie Charts)\n",
    "data.CATEGORY.value_counts()\n",
    "amount_of_spam = data.CATEGORY.value_counts()[1]\n",
    "amount_of_ham = data.CATEGORY.value_counts()[0]\n",
    "category_names = ['Spam','LegitMail']\n",
    "colours=['red','blue']\n",
    "explode=[0,0.1]\n",
    "sizes = [amount_of_spam, amount_of_ham]\n",
    "plt.figure(figsize=(2,2),dpi=227)\n",
    "plt.pie(x=sizes,labels=category_names,textprops={'fontsize':9},colors=colours,explode=[0,0.1],autopct ='%1.1f%%',startangle=90)\n",
    "plt.show()"
   ]
  },
  {
   "cell_type": "code",
   "execution_count": 166,
   "id": "b222aac4",
   "metadata": {},
   "outputs": [
    {
     "data": {
      "image/png": "[encoded data removed]",
      "text/plain": [
       "<Figure size 454x454 with 1 Axes>"
      ]
     },
     "metadata": {},
     "output_type": "display_data"
    }
   ],
   "source": [
    "#Donought Chart\n",
    "#Drawing Circle\n",
    "category_names = ['Spam Mail','Legit Mail']\n",
    "colours=['red','blue']\n",
    "explode=[0,0]\n",
    "sizes = [amount_of_spam, amount_of_ham]\n",
    "plt.figure(figsize=(2,2),dpi=227)\n",
    "plt.pie(x=sizes,labels=category_names,textprops={'fontsize':11},colors=colours,explode=explode,startangle=90)\n",
    "#autopct ='%1.1f%%'\n",
    "center_circle = plt.Circle((0,0),radius=0.6,fc='white')\n",
    "plt.gca().add_artist(center_circle)\n",
    "plt.show()"
   ]
  },
  {
   "cell_type": "markdown",
   "id": "cfaa7b36",
   "metadata": {},
   "source": [
    "# Natural Language Processing"
   ]
  },
  {
   "cell_type": "code",
   "execution_count": 167,
   "id": "4d8b8eca",
   "metadata": {},
   "outputs": [
    {
     "name": "stderr",
     "output_type": "stream",
     "text": [
      "[nltk_data] Downloading package punkt to\n",
      "[nltk_data]     C:\\Users\\aadit\\AppData\\Roaming\\nltk_data...\n",
      "[nltk_data]   Package punkt is already up-to-date!\n",
      "[nltk_data] Downloading package stopwords to\n",
      "[nltk_data]     C:\\Users\\aadit\\AppData\\Roaming\\nltk_data...\n",
      "[nltk_data]   Package stopwords is already up-to-date!\n"
     ]
    },
    {
     "data": {
      "text/plain": [
       "True"
      ]
     },
     "execution_count": 167,
     "metadata": {},
     "output_type": "execute_result"
    }
   ],
   "source": [
    "#Downloading the NLTK Resources (Tokenizer and Stopwords)\n",
    "nltk.download('punkt')\n",
    "nltk.download('stopwords')"
   ]
  },
  {
   "cell_type": "code",
   "execution_count": 168,
   "id": "1d1ded38",
   "metadata": {},
   "outputs": [
    {
     "data": {
      "text/plain": [
       "['all', 'work', 'and', 'no', 'play', 'makes', 'jack', 'a', 'dull', 'boy']"
      ]
     },
     "execution_count": 168,
     "metadata": {},
     "output_type": "execute_result"
    }
   ],
   "source": [
    "#Tokenzing\n",
    "msg='All work and no play makes Jack a dull boy'\n",
    "word_tokenize(msg.lower())"
   ]
  },
  {
   "cell_type": "code",
   "execution_count": 169,
   "id": "b2cec7e4",
   "metadata": {},
   "outputs": [
    {
     "name": "stdout",
     "output_type": "stream",
     "text": [
      "Found it\n",
      "Not here\n"
     ]
    }
   ],
   "source": [
    "#Removing Stop word\n",
    "stop_words = set(stopwords.words('english'))\n",
    "if 'this' in stop_words:\n",
    "    print ('Found it')\n",
    "if 'hello' not in stop_words:\n",
    "    print ('Not here')"
   ]
  },
  {
   "cell_type": "code",
   "execution_count": 170,
   "id": "342e1bf5",
   "metadata": {},
   "outputs": [
    {
     "name": "stdout",
     "output_type": "stream",
     "text": [
      "['work', 'play', 'makes', 'jack', 'dull', 'boy']\n"
     ]
    }
   ],
   "source": [
    "#Testing with msg,\n",
    "words = word_tokenize(msg.lower())\n",
    "filtered_words=[]\n",
    "for word in words:\n",
    "    if word not in stop_words:\n",
    "        filtered_words.append(word)\n",
    "\n",
    "print(filtered_words)"
   ]
  },
  {
   "cell_type": "markdown",
   "id": "51b6b468",
   "metadata": {},
   "source": [
    "# Word stemming and Removing puntuations"
   ]
  },
  {
   "cell_type": "code",
   "execution_count": 171,
   "id": "5c02d739",
   "metadata": {},
   "outputs": [
    {
     "name": "stdout",
     "output_type": "stream",
     "text": [
      "['work', 'play', 'make', 'jack', 'dull', 'boy']\n"
     ]
    }
   ],
   "source": [
    "#we add stemmer to previous code\n",
    "\n",
    "words = word_tokenize(msg.lower())\n",
    "filtered_words=[]\n",
    "stemmer = PorterStemmer()\n",
    "for word in words:\n",
    "    if word not in stop_words:\n",
    "        stemmed_word = stemmer.stem(word)\n",
    "        filtered_words.append(stemmed_word)\n",
    "print(filtered_words)"
   ]
  },
  {
   "cell_type": "code",
   "execution_count": 172,
   "id": "ccaa4c90",
   "metadata": {},
   "outputs": [
    {
     "name": "stdout",
     "output_type": "stream",
     "text": [
      "True\n",
      "False\n"
     ]
    }
   ],
   "source": [
    "#checking if alphabet or not\n",
    "print('a'.isalpha())\n",
    "print('?'.isalpha())"
   ]
  },
  {
   "cell_type": "code",
   "execution_count": 173,
   "id": "4c02e00e",
   "metadata": {},
   "outputs": [],
   "source": [
    "#Removing HTML tags from Emails\n",
    "soup = BeautifulSoup(data.at[5,'MESSAGE'],'html.parser')\n",
    "# print(soup.prettify())\n",
    "# soup.get_text()"
   ]
  },
  {
   "cell_type": "code",
   "execution_count": 174,
   "id": "c46d84d6",
   "metadata": {},
   "outputs": [],
   "source": [
    "# print(data.at[2,'MESSAGE'])"
   ]
  },
  {
   "cell_type": "code",
   "execution_count": 175,
   "id": "6017a8ed",
   "metadata": {},
   "outputs": [],
   "source": [
    "#function for email processing \n",
    "def clean_msg(message,stop_word=set(stopwords.words('english'))):\n",
    "    stemmer=PorterStemmer()\n",
    "    #Removing HTML TAGS\n",
    "    soup = BeautifulSoup(message,'html.parser')\n",
    "    cleaned_text = soup.get_text()\n",
    "    #Conversts to lowercase and splits the words\n",
    "    words = word_tokenize(cleaned_text.lower())\n",
    "    filtered_words=[]\n",
    "    for word in words:\n",
    "        if word not in stop_words and word.isalpha():\n",
    "            filtered_words.append(stemmer.stem(word))\n",
    "    return filtered_words"
   ]
  },
  {
   "cell_type": "code",
   "execution_count": 176,
   "id": "90909096",
   "metadata": {},
   "outputs": [
    {
     "name": "stdout",
     "output_type": "stream",
     "text": [
      "['fight', 'risk', 'cancer', 'http', 'slim', 'guarante', 'lose', 'lb', 'day', 'http', 'get', 'child', 'support', 'deserv', 'free', 'legal', 'advic', 'http', 'join', 'web', 'fastest', 'grow', 'singl', 'commun', 'http', 'start', 'privat', 'photo', 'album', 'onlin', 'http', 'wonder', 'day', 'offer', 'manag', 'prizemama', 'wish', 'leav', 'list', 'pleas', 'use', 'link', 'http', 'zzzz']\n"
     ]
    }
   ],
   "source": [
    "print(clean_msg(data.at[2,'MESSAGE']))"
   ]
  },
  {
   "cell_type": "code",
   "execution_count": 191,
   "id": "799af572",
   "metadata": {},
   "outputs": [],
   "source": [
    "#Applying cleaning and Tokenization to all messages\n",
    "first_emails = data.MESSAGE.iloc[0:3]\n",
    "first_emails_list = first_emails.apply(clean_msg)"
   ]
  },
  {
   "cell_type": "code",
   "execution_count": 190,
   "id": "464be7bd",
   "metadata": {},
   "outputs": [
    {
     "data": {
      "text/plain": [
       "['save',\n",
       " 'life',\n",
       " 'insur',\n",
       " 'spend',\n",
       " 'life',\n",
       " 'quot',\n",
       " 'save',\n",
       " 'g',\n",
       " 'famili',\n",
       " 'financi',\n",
       " 'secur',\n",
       " 'import',\n",
       " 'life',\n",
       " 'quot',\n",
       " 'save',\n",
       " 'ke',\n",
       " 'buy',\n",
       " 'life',\n",
       " 'insur',\n",
       " 'simpl',\n",
       " 'afford',\n",
       " 'provid',\n",
       " 'free',\n",
       " 'access',\n",
       " 'best',\n",
       " 'compani',\n",
       " 'lowest',\n",
       " 'rate',\n",
       " 'life',\n",
       " 'quot',\n",
       " 'save',\n",
       " 'fast',\n",
       " 'save',\n",
       " 'money',\n",
       " 'let',\n",
       " 'us',\n",
       " 'help',\n",
       " 'get',\n",
       " 'start',\n",
       " 'best',\n",
       " 'ue',\n",
       " 'countri',\n",
       " 'new',\n",
       " 'coverag',\n",
       " 'save',\n",
       " 'hundr',\n",
       " 'even',\n",
       " 'usand',\n",
       " 'dollar',\n",
       " 'request',\n",
       " 'free',\n",
       " 'quot',\n",
       " 'lifequot',\n",
       " 'save',\n",
       " 'servic',\n",
       " 'take',\n",
       " 'less',\n",
       " 'minut',\n",
       " 'complet',\n",
       " 'shop',\n",
       " 'compar',\n",
       " 'save',\n",
       " 'type',\n",
       " 'life',\n",
       " 'insur',\n",
       " 'click',\n",
       " 'free',\n",
       " 'quot',\n",
       " 'protect',\n",
       " 'famili',\n",
       " 'best',\n",
       " 'invest',\n",
       " 'r',\n",
       " 'make',\n",
       " 'receipt',\n",
       " 'email',\n",
       " 'error',\n",
       " 'wish',\n",
       " 'remov',\n",
       " 'list',\n",
       " 'pleas',\n",
       " 'click',\n",
       " 'type',\n",
       " 'remov',\n",
       " 'resid',\n",
       " 'state',\n",
       " 'prohibit',\n",
       " 'solicit',\n",
       " 'ce',\n",
       " 'pleas',\n",
       " 'disregard',\n",
       " 'email']"
      ]
     },
     "execution_count": 190,
     "metadata": {},
     "output_type": "execute_result"
    }
   ],
   "source": [
    "first_emails_list[0]"
   ]
  },
  {
   "cell_type": "code",
   "execution_count": 193,
   "id": "f5c6f974",
   "metadata": {},
   "outputs": [],
   "source": [
    "the_list=data.MESSAGE.apply(clean_msg)"
   ]
  },
  {
   "cell_type": "markdown",
   "id": "96cdeaf9",
   "metadata": {},
   "source": [
    "## Using logic to slice DataFrames"
   ]
  },
  {
   "cell_type": "code",
   "execution_count": 194,
   "id": "4534d9f8",
   "metadata": {},
   "outputs": [
    {
     "name": "stdout",
     "output_type": "stream",
     "text": [
      "Spam Messages =>  (1898, 3)\n",
      "Ham Messages =>  (3901, 3)\n"
     ]
    }
   ],
   "source": [
    "print(\"Spam Messages => \",data[data.CATEGORY == 1].shape)\n",
    "print(\"Ham Messages => \",data[data.CATEGORY == 0].shape)"
   ]
  },
  {
   "cell_type": "code",
   "execution_count": 195,
   "id": "5b9e581f",
   "metadata": {},
   "outputs": [],
   "source": [
    "doc_ids_spam = data[data.CATEGORY ==1].index\n",
    "doc_ids_ham = data[data.CATEGORY ==0].index"
   ]
  },
  {
   "cell_type": "code",
   "execution_count": 196,
   "id": "4e6a9be7",
   "metadata": {},
   "outputs": [
    {
     "name": "stdout",
     "output_type": "stream",
     "text": [
      "<class 'pandas.core.indexes.numeric.Int64Index'>\n"
     ]
    },
    {
     "data": {
      "text/plain": [
       "pandas.core.series.Series"
      ]
     },
     "execution_count": 196,
     "metadata": {},
     "output_type": "execute_result"
    }
   ],
   "source": [
    "#Subsetting a Series with an Index\n",
    "print(type(doc_ids_ham))\n",
    "type(the_list)"
   ]
  },
  {
   "cell_type": "code",
   "execution_count": 197,
   "id": "fe179551",
   "metadata": {},
   "outputs": [],
   "source": [
    "#Storing Indicies for spam / non-spam emails in variables\n",
    "doc_ids_spam = data[data.CATEGORY==1].index\n",
    "doc_ids_ham = data[data.CATEGORY== 0].index"
   ]
  },
  {
   "cell_type": "code",
   "execution_count": 198,
   "id": "36e6f4db",
   "metadata": {},
   "outputs": [
    {
     "name": "stdout",
     "output_type": "stream",
     "text": [
      "Int64Index([1898, 1899, 1900, 1901, 1902, 1903, 1904, 1905, 1906, 1907,\n",
      "            ...\n",
      "            5789, 5790, 5791, 5792, 5793, 5794, 5795, 5796, 5797, 5798],\n",
      "           dtype='int64', name='DOC_ID', length=3901)\n",
      "<bound method NDFrame.tail of DOC_ID\n",
      "0       [save, life, insur, spend, life, quot, save, g...\n",
      "1       [fight, risk, cancer, http, slim, guarante, lo...\n",
      "2       [fight, risk, cancer, http, slim, guarante, lo...\n",
      "3       [adult, club, offer, free, membership, instant...\n",
      "4       [thought, might, like, slim, guarante, lose, l...\n",
      "                              ...                        \n",
      "5794    [http, bizarr, collect, stuf, anim, could, fet...\n",
      "5795    [care, use, one, also, realli, cute, thing, ja...\n",
      "5796    [sm, skip, montanaro, write, jeremi, put, anot...\n",
      "5797    [mark, hammond, like, given, zodb, sound, attr...\n",
      "5798    [hi, probabl, use, whatsoev, also, problem, re...\n",
      "Name: MESSAGE, Length: 5799, dtype: object>\n"
     ]
    }
   ],
   "source": [
    "#Subsetting a Series with an index\n",
    "print(doc_ids_ham)\n",
    "print(the_list.tail)"
   ]
  },
  {
   "cell_type": "code",
   "execution_count": 200,
   "id": "665d7993",
   "metadata": {},
   "outputs": [
    {
     "name": "stdout",
     "output_type": "stream",
     "text": [
      "(3901,)\n",
      "DOC_ID\n",
      "5794    [http, bizarr, collect, stuf, anim, could, fet...\n",
      "5795    [care, use, one, also, realli, cute, thing, ja...\n",
      "5796    [sm, skip, montanaro, write, jeremi, put, anot...\n",
      "5797    [mark, hammond, like, given, zodb, sound, attr...\n",
      "5798    [hi, probabl, use, whatsoev, also, problem, re...\n",
      "Name: MESSAGE, dtype: object\n"
     ]
    }
   ],
   "source": [
    "the_list_ham = the_list.loc[doc_ids_ham]\n",
    "print(the_list_ham.shape)\n",
    "print(the_list_ham.tail())"
   ]
  },
  {
   "cell_type": "code",
   "execution_count": 203,
   "id": "e3dbd9a7",
   "metadata": {},
   "outputs": [
    {
     "name": "stdout",
     "output_type": "stream",
     "text": [
      "(1898,)\n",
      "DOC_ID\n",
      "1893    [messag, mime, format, prefer, doctor, order, ...\n",
      "1894    [dear, subscrib, could, show, way, get, visito...\n",
      "1895    [custom, appreci, sale, express, appreci, loya...\n",
      "1896    [attn, strictli, confidenti, pleas, introduc, ...\n",
      "1897                                                   []\n",
      "Name: MESSAGE, dtype: object\n"
     ]
    }
   ],
   "source": [
    "the_list_spam = the_list.loc[doc_ids_spam]\n",
    "print(the_list_spam.shape)\n",
    "print(the_list_spam.tail())"
   ]
  },
  {
   "cell_type": "markdown",
   "id": "925c5fea",
   "metadata": {},
   "source": [
    "### Finding most common words in both types of Mail"
   ]
  },
  {
   "cell_type": "code",
   "execution_count": 214,
   "id": "69a5f15b",
   "metadata": {},
   "outputs": [
    {
     "name": "stdout",
     "output_type": "stream",
     "text": [
      "20815\n",
      "http      7563\n",
      "use       3633\n",
      "list      2880\n",
      "one       2373\n",
      "get       2286\n",
      "mail      2255\n",
      "would     2003\n",
      "like      1931\n",
      "messag    1849\n",
      "work      1800\n",
      "dtype: int64\n"
     ]
    }
   ],
   "source": [
    "flat_list_ham =[item for sublist in the_list_ham for item in sublist]\n",
    "normal_words = pd.Series(flat_list_ham).value_counts()\n",
    "print(normal_words.shape[0]) #total number of ham words\n",
    "print(normal_words[:10])"
   ]
  },
  {
   "cell_type": "code",
   "execution_count": 215,
   "id": "f715a47c",
   "metadata": {},
   "outputs": [
    {
     "name": "stdout",
     "output_type": "stream",
     "text": [
      "13242\n",
      "http      3097\n",
      "email     3090\n",
      "free      2585\n",
      "click     2058\n",
      "receiv    1989\n",
      "list      1971\n",
      "get       1914\n",
      "pleas     1852\n",
      "busi      1792\n",
      "order     1746\n",
      "dtype: int64\n"
     ]
    }
   ],
   "source": [
    "flat_list_spam =[item for sublist in the_list_spam for item in sublist]\n",
    "spam_words = pd.Series(flat_list_spam).value_counts()\n",
    "print(spam_words.shape[0]) #total number of ham words\n",
    "print(spam_words[:10])"
   ]
  },
  {
   "cell_type": "code",
   "execution_count": null,
   "id": "625151db",
   "metadata": {},
   "outputs": [],
   "source": []
  },
  {
   "cell_type": "code",
   "execution_count": null,
   "id": "e591a4cf",
   "metadata": {},
   "outputs": [],
   "source": []
  }
 ],
 "metadata": {
  "kernelspec": {
   "display_name": "Python 3 (ipykernel)",
   "language": "python",
   "name": "python3"
  },
  "language_info": {
   "codemirror_mode": {
    "name": "ipython",
    "version": 3
   },
   "file_extension": ".py",
   "mimetype": "text/x-python",
   "name": "python",
   "nbconvert_exporter": "python",
   "pygments_lexer": "ipython3",
   "version": "3.10.7"
  }
 },
 "nbformat": 4,
 "nbformat_minor": 5
}
