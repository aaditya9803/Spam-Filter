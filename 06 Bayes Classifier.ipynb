{
 "cells": [
  {
   "cell_type": "code",
   "execution_count": 160,
   "id": "c0c48d94",
   "metadata": {},
   "outputs": [],
   "source": [
    "from os import walk\n",
    "from os.path import join\n",
    "import pandas as pd"
   ]
  },
  {
   "cell_type": "code",
   "execution_count": 177,
   "id": "6abd609d",
   "metadata": {},
   "outputs": [],
   "source": [
    "spam_1_path = 'SpamData/01_Processing/spam_assassin_corpus/spam_1'\n",
    "spam_2_path = 'SpamData/01_Processing/spam_assassin_corpus/spam_2'\n",
    "nonspam_1_path = 'SpamData/01_Processing/spam_assassin_corpus/easy_ham_1'\n",
    "nonspam_2_path = 'SpamData/01_Processing/spam_assassin_corpus/easy_ham_2'\n",
    "spam_cat =1 \n",
    "ham_cat =0\n",
    "data_json_file='SpamData/01_Processing/email-text-data.json'"
   ]
  },
  {
   "cell_type": "code",
   "execution_count": 162,
   "id": "32be03f2",
   "metadata": {},
   "outputs": [],
   "source": [
    "#Reading files\n",
    "eg_file = 'SpamData/01_Processing/practice_email.txt'\n",
    "stream=open(eg_file,encoding=\"latin-1\")\n",
    "message=stream.read()\n",
    "stream.close()"
   ]
  },
  {
   "cell_type": "code",
   "execution_count": 163,
   "id": "64998c00",
   "metadata": {},
   "outputs": [
    {
     "name": "stdout",
     "output_type": "stream",
     "text": [
      "\n",
      "\n",
      "Dear Mr Still\n",
      "\n",
      "\n",
      "\n",
      "Good tidings to you and all your staff for the festive season ahead (Christmas).\n",
      "\n",
      "Now to the crux of the matter-in-hand: I am a fully qualified Santa Claus and am wondering whether you might consider me to run my own \"Santa's Grotto\" in your store.\n",
      "\n",
      "But WAIT! You're probably thinking: \"What makes him so special?\"\n",
      "\n",
      "Well, first of all, I have made several changes to the characterisation of Father Christmas. Rather than greeting the children with shouts of \"Ho, ho, ho!\" I prefer to whisper the phrase \"Dependence is not unfathomable in this cruel world we live in\". In addition, my gifts are ALL hand-made, ranging from felt hoops to vanilla-pod holders.\n",
      "\n",
      "You will note also, from the enclosed sketch, that I have radically redesigned Santa's outfit and have renamed my character \"Lord Buckles\". Would you be interested in employing me? I promise NEVER to let you down.\n",
      "\n",
      "I look forward to hearing from you.\n",
      "\n",
      "\n",
      "\n",
      "Best wishes\n",
      "\n",
      "Robin Cooper\n",
      "\n",
      "[Excerpt from the book: The Timewaster Letters by Robin Cooper]\n",
      "\n"
     ]
    }
   ],
   "source": [
    "stream=open(eg_file)\n",
    "is_body=False\n",
    "lines=[]\n",
    "for line in stream:\n",
    "    if is_body:\n",
    "        lines.append(line)\n",
    "    elif line == '\\n':\n",
    "        is_body = True\n",
    "stream.close()\n",
    "email_body = '\\n'.join(lines)\n",
    "print(email_body)"
   ]
  },
  {
   "cell_type": "markdown",
   "id": "729a7193",
   "metadata": {},
   "source": [
    "# Creating Pandas DataFrame of email bodies"
   ]
  },
  {
   "cell_type": "code",
   "execution_count": 164,
   "id": "1f3cfa77",
   "metadata": {},
   "outputs": [],
   "source": [
    "def email_body_generator(path):\n",
    "    for root,dirnames,filenames in walk(path):\n",
    "        for file_name in filenames:\n",
    "            filepath = join(root,file_name)\n",
    "            stream = open(filepath, encoding=\"latin-1\")\n",
    "            is_body = False\n",
    "            lines = []\n",
    "            for lines in stream:\n",
    "                if is_body:\n",
    "                    lines.append(line)\n",
    "                elif line == '\\n':\n",
    "                    is_body = True\n",
    "                email_body='\\n'.join(lines)\n",
    "                yield file_name,email_body\n",
    "stream.close()"
   ]
  },
  {
   "cell_type": "code",
   "execution_count": 165,
   "id": "c11191bc",
   "metadata": {},
   "outputs": [],
   "source": [
    "def df_from_directory(path,classification):\n",
    "    rows=[]\n",
    "    rows_names=[]\n",
    "    for file_names,email_body in email_body_generator(path):\n",
    "        rows.append({'MESSAGE':email_body, 'CATEGORY':classification})\n",
    "        rows_names.append(file_names)\n",
    "    return pd.DataFrame(rows,index=rows_names)"
   ]
  },
  {
   "cell_type": "code",
   "execution_count": 166,
   "id": "6abf0529",
   "metadata": {},
   "outputs": [
    {
     "name": "stdout",
     "output_type": "stream",
     "text": [
      "(268601, 2)\n"
     ]
    }
   ],
   "source": [
    "#for spam emails\n",
    "spam_emails = df_from_directory(spam_1_path,spam_cat)\n",
    "spam_emails = pd.concat([spam_emails,df_from_directory(spam_2_path,spam_cat)])\n",
    "print(spam_emails.shape)"
   ]
  },
  {
   "cell_type": "code",
   "execution_count": 167,
   "id": "3397c2d2",
   "metadata": {},
   "outputs": [
    {
     "name": "stdout",
     "output_type": "stream",
     "text": [
      "(329266, 2)\n"
     ]
    }
   ],
   "source": [
    "#for non-spam emails\n",
    "ham_emails = df_from_directory(nonspam_1_path,ham_cat)\n",
    "ham_emails = pd.concat([ham_emails, df_from_directory(nonspam_2_path,ham_cat)])\n",
    "print(ham_emails.shape)"
   ]
  },
  {
   "cell_type": "code",
   "execution_count": 168,
   "id": "86ea51b1",
   "metadata": {},
   "outputs": [
    {
     "name": "stdout",
     "output_type": "stream",
     "text": [
      "shape of the whole dataframe (597867, 2)\n"
     ]
    }
   ],
   "source": [
    "#concating both spam and non-emails\n",
    "data = pd.concat([spam_emails,ham_emails])\n",
    "print('shape of the whole dataframe',data.shape)"
   ]
  },
  {
   "cell_type": "markdown",
   "id": "b9fdf282",
   "metadata": {},
   "source": [
    "## Data Cleaning: checking for missing values"
   ]
  },
  {
   "cell_type": "code",
   "execution_count": 169,
   "id": "412652b4",
   "metadata": {},
   "outputs": [],
   "source": [
    "# null_string =\"\"\n",
    "# none_string =None\n",
    "# print(type(null_string))\n",
    "# print(type(none_string))"
   ]
  },
  {
   "cell_type": "code",
   "execution_count": 170,
   "id": "b870db61",
   "metadata": {},
   "outputs": [
    {
     "name": "stdout",
     "output_type": "stream",
     "text": [
      "False\n",
      "0\n",
      "False\n",
      "0\n"
     ]
    }
   ],
   "source": [
    "#checking none values\n",
    "print((data.MESSAGE.str.len()==0).values.any())\n",
    "print((data.MESSAGE.str.len()==0).sum())\n",
    "#checking null values\n",
    "print(data.MESSAGE.isnull().values.any())\n",
    "print(data.MESSAGE.isnull().sum())"
   ]
  },
  {
   "cell_type": "code",
   "execution_count": 171,
   "id": "2374b647",
   "metadata": {},
   "outputs": [
    {
     "name": "stdout",
     "output_type": "stream",
     "text": [
      "(597867, 2)\n",
      "<class 'pandas.core.frame.DataFrame'>\n"
     ]
    }
   ],
   "source": [
    "# data.MESSAGE.str.len()\n",
    "print(data.shape)\n",
    "print(type(data))"
   ]
  },
  {
   "cell_type": "code",
   "execution_count": 172,
   "id": "10cf2b8c",
   "metadata": {},
   "outputs": [
    {
     "name": "stdout",
     "output_type": "stream",
     "text": [
      "Index([], dtype='object')\n"
     ]
    }
   ],
   "source": [
    "type(data.MESSAGE.str.len()==0)\n",
    "print(data[data.MESSAGE.str.len()==0].index)"
   ]
  },
  {
   "cell_type": "code",
   "execution_count": 175,
   "id": "7bd9eb23",
   "metadata": {},
   "outputs": [
    {
     "data": {
      "text/html": [
       "<div>\n",
       "<style scoped>\n",
       "    .dataframe tbody tr th:only-of-type {\n",
       "        vertical-align: middle;\n",
       "    }\n",
       "\n",
       "    .dataframe tbody tr th {\n",
       "        vertical-align: top;\n",
       "    }\n",
       "\n",
       "    .dataframe thead th {\n",
       "        text-align: right;\n",
       "    }\n",
       "</style>\n",
       "<table border=\"1\" class=\"dataframe\">\n",
       "  <thead>\n",
       "    <tr style=\"text-align: right;\">\n",
       "      <th></th>\n",
       "      <th>MESSAGE</th>\n",
       "      <th>CATEGORY</th>\n",
       "      <th>FILENAME</th>\n",
       "    </tr>\n",
       "    <tr>\n",
       "      <th>DOC_ID</th>\n",
       "      <th></th>\n",
       "      <th></th>\n",
       "      <th></th>\n",
       "    </tr>\n",
       "  </thead>\n",
       "  <tbody>\n",
       "    <tr>\n",
       "      <th>0</th>\n",
       "      <td>F\\nr\\no\\nm\\n \\n1\\n2\\na\\n1\\nm\\na\\ni\\nl\\nb\\no\\nt...</td>\n",
       "      <td>1</td>\n",
       "      <td>00001.7848dde101aa985090474a91ec93fcf0</td>\n",
       "    </tr>\n",
       "    <tr>\n",
       "      <th>1</th>\n",
       "      <td>R\\ne\\nt\\nu\\nr\\nn\\n-\\nP\\na\\nt\\nh\\n:\\n \\n&lt;\\n1\\n2...</td>\n",
       "      <td>1</td>\n",
       "      <td>00001.7848dde101aa985090474a91ec93fcf0</td>\n",
       "    </tr>\n",
       "    <tr>\n",
       "      <th>2</th>\n",
       "      <td>D\\ne\\nl\\ni\\nv\\ne\\nr\\ne\\nd\\n-\\nT\\no\\n:\\n \\nz\\nz...</td>\n",
       "      <td>1</td>\n",
       "      <td>00001.7848dde101aa985090474a91ec93fcf0</td>\n",
       "    </tr>\n",
       "    <tr>\n",
       "      <th>3</th>\n",
       "      <td>R\\ne\\nc\\ne\\ni\\nv\\ne\\nd\\n:\\n \\nf\\nr\\no\\nm\\n \\nl...</td>\n",
       "      <td>1</td>\n",
       "      <td>00001.7848dde101aa985090474a91ec93fcf0</td>\n",
       "    </tr>\n",
       "    <tr>\n",
       "      <th>4</th>\n",
       "      <td>\\t\\nb\\ny\\n \\np\\nh\\no\\nb\\no\\ns\\n.\\nl\\na\\nb\\ns\\n...</td>\n",
       "      <td>1</td>\n",
       "      <td>00001.7848dde101aa985090474a91ec93fcf0</td>\n",
       "    </tr>\n",
       "  </tbody>\n",
       "</table>\n",
       "</div>"
      ],
      "text/plain": [
       "                                                  MESSAGE  CATEGORY  \\\n",
       "DOC_ID                                                                \n",
       "0       F\\nr\\no\\nm\\n \\n1\\n2\\na\\n1\\nm\\na\\ni\\nl\\nb\\no\\nt...         1   \n",
       "1       R\\ne\\nt\\nu\\nr\\nn\\n-\\nP\\na\\nt\\nh\\n:\\n \\n<\\n1\\n2...         1   \n",
       "2       D\\ne\\nl\\ni\\nv\\ne\\nr\\ne\\nd\\n-\\nT\\no\\n:\\n \\nz\\nz...         1   \n",
       "3       R\\ne\\nc\\ne\\ni\\nv\\ne\\nd\\n:\\n \\nf\\nr\\no\\nm\\n \\nl...         1   \n",
       "4       \\t\\nb\\ny\\n \\np\\nh\\no\\nb\\no\\ns\\n.\\nl\\na\\nb\\ns\\n...         1   \n",
       "\n",
       "                                      FILENAME  \n",
       "DOC_ID                                          \n",
       "0       00001.7848dde101aa985090474a91ec93fcf0  \n",
       "1       00001.7848dde101aa985090474a91ec93fcf0  \n",
       "2       00001.7848dde101aa985090474a91ec93fcf0  \n",
       "3       00001.7848dde101aa985090474a91ec93fcf0  \n",
       "4       00001.7848dde101aa985090474a91ec93fcf0  "
      ]
     },
     "execution_count": 175,
     "metadata": {},
     "output_type": "execute_result"
    }
   ],
   "source": [
    "#Adding Document IDs to track Email in dataset\n",
    "document_ids=range(0,len(data.index))\n",
    "data['DOC_ID']=document_ids\n",
    "data['FILENAME']=data.index\n",
    "data.set_index('DOC_ID',inplace=True)\n",
    "data.head()"
   ]
  },
  {
   "cell_type": "code",
   "execution_count": 176,
   "id": "a553b8e8",
   "metadata": {},
   "outputs": [
    {
     "data": {
      "text/html": [
       "<div>\n",
       "<style scoped>\n",
       "    .dataframe tbody tr th:only-of-type {\n",
       "        vertical-align: middle;\n",
       "    }\n",
       "\n",
       "    .dataframe tbody tr th {\n",
       "        vertical-align: top;\n",
       "    }\n",
       "\n",
       "    .dataframe thead th {\n",
       "        text-align: right;\n",
       "    }\n",
       "</style>\n",
       "<table border=\"1\" class=\"dataframe\">\n",
       "  <thead>\n",
       "    <tr style=\"text-align: right;\">\n",
       "      <th></th>\n",
       "      <th>MESSAGE</th>\n",
       "      <th>CATEGORY</th>\n",
       "      <th>FILENAME</th>\n",
       "    </tr>\n",
       "    <tr>\n",
       "      <th>DOC_ID</th>\n",
       "      <th></th>\n",
       "      <th></th>\n",
       "      <th></th>\n",
       "    </tr>\n",
       "  </thead>\n",
       "  <tbody>\n",
       "    <tr>\n",
       "      <th>597862</th>\n",
       "      <td>I\\nr\\ni\\ns\\nh\\n \\nL\\ni\\nn\\nu\\nx\\n \\nU\\ns\\ne\\nr...</td>\n",
       "      <td>0</td>\n",
       "      <td>01400.f897f0931e461e7b2e964d28e927c35e</td>\n",
       "    </tr>\n",
       "    <tr>\n",
       "      <th>597863</th>\n",
       "      <td>h\\nt\\nt\\np\\n:\\n/\\n/\\nw\\nw\\nw\\n.\\nl\\ni\\nn\\nu\\nx...</td>\n",
       "      <td>0</td>\n",
       "      <td>01400.f897f0931e461e7b2e964d28e927c35e</td>\n",
       "    </tr>\n",
       "    <tr>\n",
       "      <th>597864</th>\n",
       "      <td>L\\ni\\ns\\nt\\n \\nm\\na\\ni\\nn\\nt\\na\\ni\\nn\\ne\\nr\\n:...</td>\n",
       "      <td>0</td>\n",
       "      <td>01400.f897f0931e461e7b2e964d28e927c35e</td>\n",
       "    </tr>\n",
       "    <tr>\n",
       "      <th>597865</th>\n",
       "      <td>\\n</td>\n",
       "      <td>0</td>\n",
       "      <td>01400.f897f0931e461e7b2e964d28e927c35e</td>\n",
       "    </tr>\n",
       "    <tr>\n",
       "      <th>597866</th>\n",
       "      <td>\\n</td>\n",
       "      <td>0</td>\n",
       "      <td>01400.f897f0931e461e7b2e964d28e927c35e</td>\n",
       "    </tr>\n",
       "  </tbody>\n",
       "</table>\n",
       "</div>"
      ],
      "text/plain": [
       "                                                  MESSAGE  CATEGORY  \\\n",
       "DOC_ID                                                                \n",
       "597862  I\\nr\\ni\\ns\\nh\\n \\nL\\ni\\nn\\nu\\nx\\n \\nU\\ns\\ne\\nr...         0   \n",
       "597863  h\\nt\\nt\\np\\n:\\n/\\n/\\nw\\nw\\nw\\n.\\nl\\ni\\nn\\nu\\nx...         0   \n",
       "597864  L\\ni\\ns\\nt\\n \\nm\\na\\ni\\nn\\nt\\na\\ni\\nn\\ne\\nr\\n:...         0   \n",
       "597865                                                 \\n         0   \n",
       "597866                                                 \\n         0   \n",
       "\n",
       "                                      FILENAME  \n",
       "DOC_ID                                          \n",
       "597862  01400.f897f0931e461e7b2e964d28e927c35e  \n",
       "597863  01400.f897f0931e461e7b2e964d28e927c35e  \n",
       "597864  01400.f897f0931e461e7b2e964d28e927c35e  \n",
       "597865  01400.f897f0931e461e7b2e964d28e927c35e  \n",
       "597866  01400.f897f0931e461e7b2e964d28e927c35e  "
      ]
     },
     "execution_count": 176,
     "metadata": {},
     "output_type": "execute_result"
    }
   ],
   "source": [
    "data.tail()"
   ]
  },
  {
   "cell_type": "code",
   "execution_count": 178,
   "id": "e455ddde",
   "metadata": {},
   "outputs": [],
   "source": [
    "#Saving Files as json\n",
    "data.to_json(data_json_file)"
   ]
  },
  {
   "cell_type": "code",
   "execution_count": null,
   "id": "cc59f3fa",
   "metadata": {},
   "outputs": [],
   "source": []
  }
 ],
 "metadata": {
  "kernelspec": {
   "display_name": "Python 3 (ipykernel)",
   "language": "python",
   "name": "python3"
  },
  "language_info": {
   "codemirror_mode": {
    "name": "ipython",
    "version": 3
   },
   "file_extension": ".py",
   "mimetype": "text/x-python",
   "name": "python",
   "nbconvert_exporter": "python",
   "pygments_lexer": "ipython3",
   "version": "3.10.7"
  }
 },
 "nbformat": 4,
 "nbformat_minor": 5
}
