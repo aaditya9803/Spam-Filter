{
 "cells": [
  {
   "cell_type": "code",
   "execution_count": 161,
   "id": "6eba4774",
   "metadata": {},
   "outputs": [],
   "source": [
    "from os import walk\n",
    "from os.path import join\n",
    "import pandas as pd"
   ]
  },
  {
   "cell_type": "code",
   "execution_count": 162,
   "id": "9aaf2682",
   "metadata": {},
   "outputs": [],
   "source": [
    "spam_1_path = 'SpamData/01_Processing/spam_assassin_corpus/spam_1'\n",
    "spam_2_path = 'SpamData/01_Processing/spam_assassin_corpus/spam_2'\n",
    "nonspam_1_path = 'SpamData/01_Processing/spam_assassin_corpus/easy_ham_1'\n",
    "nonspam_2_path = 'SpamData/01_Processing/spam_assassin_corpus/easy_ham_2'\n",
    "spam_cat =1 \n",
    "ham_cat =0"
   ]
  },
  {
   "cell_type": "code",
   "execution_count": 163,
   "id": "05513897",
   "metadata": {},
   "outputs": [],
   "source": [
    "#Reading files\n",
    "eg_file = 'SpamData/01_Processing/practice_email.txt'\n",
    "stream=open(eg_file,encoding=\"latin-1\")\n",
    "message=stream.read()\n",
    "stream.close()"
   ]
  },
  {
   "cell_type": "code",
   "execution_count": 164,
   "id": "72d18006",
   "metadata": {},
   "outputs": [
    {
     "name": "stdout",
     "output_type": "stream",
     "text": [
      "\n",
      "\n",
      "Dear Mr Still\n",
      "\n",
      "\n",
      "\n",
      "Good tidings to you and all your staff for the festive season ahead (Christmas).\n",
      "\n",
      "Now to the crux of the matter-in-hand: I am a fully qualified Santa Claus and am wondering whether you might consider me to run my own \"Santa's Grotto\" in your store.\n",
      "\n",
      "But WAIT! You're probably thinking: \"What makes him so special?\"\n",
      "\n",
      "Well, first of all, I have made several changes to the characterisation of Father Christmas. Rather than greeting the children with shouts of \"Ho, ho, ho!\" I prefer to whisper the phrase \"Dependence is not unfathomable in this cruel world we live in\". In addition, my gifts are ALL hand-made, ranging from felt hoops to vanilla-pod holders.\n",
      "\n",
      "You will note also, from the enclosed sketch, that I have radically redesigned Santa's outfit and have renamed my character \"Lord Buckles\". Would you be interested in employing me? I promise NEVER to let you down.\n",
      "\n",
      "I look forward to hearing from you.\n",
      "\n",
      "\n",
      "\n",
      "Best wishes\n",
      "\n",
      "Robin Cooper\n",
      "\n",
      "[Excerpt from the book: The Timewaster Letters by Robin Cooper]\n",
      "\n"
     ]
    }
   ],
   "source": [
    "stream=open(eg_file)\n",
    "is_body=False\n",
    "lines=[]\n",
    "for line in stream:\n",
    "    if is_body:\n",
    "        lines.append(line)\n",
    "    elif line == '\\n':\n",
    "        is_body = True\n",
    "stream.close()\n",
    "email_body = '\\n'.join(lines)\n",
    "print(email_body)"
   ]
  },
  {
   "cell_type": "markdown",
   "id": "5d0be817",
   "metadata": {},
   "source": [
    "# Creating Pandas DataFrame of email bodies"
   ]
  },
  {
   "cell_type": "code",
   "execution_count": 165,
   "id": "92a6b34f",
   "metadata": {},
   "outputs": [],
   "source": [
    "def email_body_generator(path):\n",
    "    for root,dirnames,filenames in walk(path):\n",
    "        for file_name in filenames:\n",
    "            filepath = join(root,file_name)\n",
    "            stream = open(filepath, encoding=\"latin-1\")\n",
    "            is_body = False\n",
    "            lines = []\n",
    "            for lines in stream:\n",
    "                if is_body:\n",
    "                    lines.append(line)\n",
    "                elif line == '\\n':\n",
    "                    is_body = True\n",
    "                email_body='\\n'.join(lines)\n",
    "                yield file_name,email_body\n",
    "stream.close()"
   ]
  },
  {
   "cell_type": "code",
   "execution_count": 166,
   "id": "775ebfe5",
   "metadata": {},
   "outputs": [],
   "source": [
    "def df_from_directory(path,classification):\n",
    "    rows=[]\n",
    "    rows_names=[]\n",
    "    for file_names,email_body in email_body_generator(path):\n",
    "        rows.append({'MESSAGE':email_body, 'CATEGORY':classification})\n",
    "        rows_names.append(file_names)\n",
    "    return pd.DataFrame(rows,index=rows_names)"
   ]
  },
  {
   "cell_type": "code",
   "execution_count": 174,
   "id": "ddeddc83",
   "metadata": {},
   "outputs": [
    {
     "name": "stdout",
     "output_type": "stream",
     "text": [
      "(268601, 2)\n"
     ]
    }
   ],
   "source": [
    "#for spam emails\n",
    "spam_emails = df_from_directory(spam_1_path,spam_cat)\n",
    "spam_emails = pd.concat([spam_emails,df_from_directory(spam_2_path,spam_cat)])\n",
    "print(spam_emails.shape)"
   ]
  },
  {
   "cell_type": "code",
   "execution_count": 173,
   "id": "3f66f99d",
   "metadata": {},
   "outputs": [
    {
     "name": "stdout",
     "output_type": "stream",
     "text": [
      "(268601, 2)\n"
     ]
    }
   ],
   "source": [
    "#for non-spam emails\n",
    "ham_emails = df_from_directory(spam_1_path,ham_cat)\n",
    "ham_emails = pd.concat([ham_emails, df_from_directory(spam_2_path,ham_cat)])\n",
    "print(ham_emails.shape)"
   ]
  },
  {
   "cell_type": "code",
   "execution_count": 176,
   "id": "dcfe1c09",
   "metadata": {},
   "outputs": [
    {
     "name": "stdout",
     "output_type": "stream",
     "text": [
      "shape of the whole dataframe (537202, 2)\n"
     ]
    }
   ],
   "source": [
    "#concating both spam and non-emails\n",
    "data = pd.concat([spam_emails,ham_emails])\n",
    "print('shape of the whole dataframe',data.shape)"
   ]
  },
  {
   "cell_type": "code",
   "execution_count": null,
   "id": "fadee3b7",
   "metadata": {},
   "outputs": [],
   "source": []
  }
 ],
 "metadata": {
  "kernelspec": {
   "display_name": "Python 3 (ipykernel)",
   "language": "python",
   "name": "python3"
  },
  "language_info": {
   "codemirror_mode": {
    "name": "ipython",
    "version": 3
   },
   "file_extension": ".py",
   "mimetype": "text/x-python",
   "name": "python",
   "nbconvert_exporter": "python",
   "pygments_lexer": "ipython3",
   "version": "3.10.7"
  }
 },
 "nbformat": 4,
 "nbformat_minor": 5
}
